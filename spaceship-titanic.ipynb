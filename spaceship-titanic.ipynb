{
 "cells": [
  {
   "cell_type": "code",
   "execution_count": 1,
   "id": "c16f12b3",
   "metadata": {
    "_cell_guid": "b1076dfc-b9ad-4769-8c92-a6c4dae69d19",
    "_uuid": "8f2839f25d086af736a60e9eeb907d3b93b6e0e5",
    "execution": {
     "iopub.execute_input": "2023-09-05T19:36:33.927937Z",
     "iopub.status.busy": "2023-09-05T19:36:33.927014Z",
     "iopub.status.idle": "2023-09-05T19:36:33.944717Z",
     "shell.execute_reply": "2023-09-05T19:36:33.943601Z"
    },
    "papermill": {
     "duration": 0.045664,
     "end_time": "2023-09-05T19:36:33.947274",
     "exception": false,
     "start_time": "2023-09-05T19:36:33.901610",
     "status": "completed"
    },
    "tags": []
   },
   "outputs": [
    {
     "name": "stdout",
     "output_type": "stream",
     "text": [
      "/kaggle/input/spaceship-titanic/sample_submission.csv\n",
      "/kaggle/input/spaceship-titanic/train.csv\n",
      "/kaggle/input/spaceship-titanic/test.csv\n"
     ]
    }
   ],
   "source": [
    "# This Python 3 environment comes with many helpful analytics libraries installed\n",
    "# It is defined by the kaggle/python Docker image: https://github.com/kaggle/docker-python\n",
    "# For example, here's several helpful packages to load\n",
    "\n",
    "import numpy as np # linear algebra\n",
    "import pandas as pd # data processing, CSV file I/O (e.g. pd.read_csv)\n",
    "\n",
    "# Input data files are available in the read-only \"../input/\" directory\n",
    "# For example, running this (by clicking run or pressing Shift+Enter) will list all files under the input directory\n",
    "0\n",
    "import os\n",
    "for dirname, _, filenames in os.walk('/kaggle/input'):\n",
    "    for filename in filenames:\n",
    "        print(os.path.join(dirname, filename))\n",
    "\n",
    "# You can write up to 20GB to the current directory (/kaggle/working/) that gets preserved as output when you create a version using \"Save & Run All\" \n",
    "# You can also write temporary files to /kaggle/temp/, but they won't be saved outside of the current session"
   ]
  },
  {
   "cell_type": "markdown",
   "id": "7bc43600",
   "metadata": {
    "papermill": {
     "duration": 0.021875,
     "end_time": "2023-09-05T19:36:33.992089",
     "exception": false,
     "start_time": "2023-09-05T19:36:33.970214",
     "status": "completed"
    },
    "tags": []
   },
   "source": [
    "# Spaceship Titanic\n",
    "I gave a try to the Titanic competition but I wasn't very happy with my results and the way I proceeded.<br>\n",
    "Here I will use functions and apply all the knowledge I gained in a more structured way.\n",
    "I'm looking to achieve an accuracy around 0.80\n",
    "I will then go back to my Titanic notebook to improve my results."
   ]
  },
  {
   "cell_type": "markdown",
   "id": "3c55227c",
   "metadata": {
    "papermill": {
     "duration": 0.021822,
     "end_time": "2023-09-05T19:36:34.036462",
     "exception": false,
     "start_time": "2023-09-05T19:36:34.014640",
     "status": "completed"
    },
    "tags": []
   },
   "source": [
    "# Table of content\n",
    "\n",
    "1. [Import Data](#section-one)\n",
    "\n",
    "2. [EDA](#section-two)\n",
    "\n",
    "3. [Model Testing](#section-three)\n",
    "4. [Feature Engineering](#section-four)\n",
    "5. [Hyperparameters tuning](#section-five)\n",
    "6. [Conclusion and Submission](#section-six)"
   ]
  },
  {
   "cell_type": "markdown",
   "id": "ffc3ba83",
   "metadata": {
    "papermill": {
     "duration": 0.022151,
     "end_time": "2023-09-05T19:36:34.080545",
     "exception": false,
     "start_time": "2023-09-05T19:36:34.058394",
     "status": "completed"
    },
    "tags": []
   },
   "source": [
    "<a id=\"section-one\"></a>\n",
    "# 1. Import Libraries and Data"
   ]
  },
  {
   "cell_type": "code",
   "execution_count": 2,
   "id": "7a23222c",
   "metadata": {
    "execution": {
     "iopub.execute_input": "2023-09-05T19:36:34.127218Z",
     "iopub.status.busy": "2023-09-05T19:36:34.126294Z",
     "iopub.status.idle": "2023-09-05T19:36:35.673724Z",
     "shell.execute_reply": "2023-09-05T19:36:35.671988Z"
    },
    "papermill": {
     "duration": 1.573748,
     "end_time": "2023-09-05T19:36:35.676760",
     "exception": false,
     "start_time": "2023-09-05T19:36:34.103012",
     "status": "completed"
    },
    "tags": []
   },
   "outputs": [
    {
     "name": "stderr",
     "output_type": "stream",
     "text": [
      "/opt/conda/lib/python3.10/site-packages/scipy/__init__.py:146: UserWarning: A NumPy version >=1.16.5 and <1.23.0 is required for this version of SciPy (detected version 1.23.5\n",
      "  warnings.warn(f\"A NumPy version >={np_minversion} and <{np_maxversion}\"\n"
     ]
    }
   ],
   "source": [
    "import matplotlib.pyplot as plt\n",
    "import seaborn as sns\n",
    "\n",
    "sns.set()\n",
    "# make sure we can see needed columns and rows\n",
    "pd.set_option('display.max_rows', 500)\n",
    "pd.set_option('display.max_columns', 500)"
   ]
  },
  {
   "cell_type": "code",
   "execution_count": 3,
   "id": "d8b344ab",
   "metadata": {
    "execution": {
     "iopub.execute_input": "2023-09-05T19:36:35.723441Z",
     "iopub.status.busy": "2023-09-05T19:36:35.722637Z",
     "iopub.status.idle": "2023-09-05T19:36:35.848428Z",
     "shell.execute_reply": "2023-09-05T19:36:35.847197Z"
    },
    "papermill": {
     "duration": 0.152319,
     "end_time": "2023-09-05T19:36:35.851398",
     "exception": false,
     "start_time": "2023-09-05T19:36:35.699079",
     "status": "completed"
    },
    "tags": []
   },
   "outputs": [
    {
     "name": "stdout",
     "output_type": "stream",
     "text": [
      "train set shape: (8693, 14)\n",
      "test set shape: (4277, 13)\n"
     ]
    },
    {
     "data": {
      "text/html": [
       "<div>\n",
       "<style scoped>\n",
       "    .dataframe tbody tr th:only-of-type {\n",
       "        vertical-align: middle;\n",
       "    }\n",
       "\n",
       "    .dataframe tbody tr th {\n",
       "        vertical-align: top;\n",
       "    }\n",
       "\n",
       "    .dataframe thead th {\n",
       "        text-align: right;\n",
       "    }\n",
       "</style>\n",
       "<table border=\"1\" class=\"dataframe\">\n",
       "  <thead>\n",
       "    <tr style=\"text-align: right;\">\n",
       "      <th></th>\n",
       "      <th>PassengerId</th>\n",
       "      <th>HomePlanet</th>\n",
       "      <th>CryoSleep</th>\n",
       "      <th>Cabin</th>\n",
       "      <th>Destination</th>\n",
       "      <th>Age</th>\n",
       "      <th>VIP</th>\n",
       "      <th>RoomService</th>\n",
       "      <th>FoodCourt</th>\n",
       "      <th>ShoppingMall</th>\n",
       "      <th>Spa</th>\n",
       "      <th>VRDeck</th>\n",
       "      <th>Name</th>\n",
       "      <th>Transported</th>\n",
       "    </tr>\n",
       "  </thead>\n",
       "  <tbody>\n",
       "    <tr>\n",
       "      <th>0</th>\n",
       "      <td>0001_01</td>\n",
       "      <td>Europa</td>\n",
       "      <td>False</td>\n",
       "      <td>B/0/P</td>\n",
       "      <td>TRAPPIST-1e</td>\n",
       "      <td>39.0</td>\n",
       "      <td>False</td>\n",
       "      <td>0.0</td>\n",
       "      <td>0.0</td>\n",
       "      <td>0.0</td>\n",
       "      <td>0.0</td>\n",
       "      <td>0.0</td>\n",
       "      <td>Maham Ofracculy</td>\n",
       "      <td>False</td>\n",
       "    </tr>\n",
       "    <tr>\n",
       "      <th>1</th>\n",
       "      <td>0002_01</td>\n",
       "      <td>Earth</td>\n",
       "      <td>False</td>\n",
       "      <td>F/0/S</td>\n",
       "      <td>TRAPPIST-1e</td>\n",
       "      <td>24.0</td>\n",
       "      <td>False</td>\n",
       "      <td>109.0</td>\n",
       "      <td>9.0</td>\n",
       "      <td>25.0</td>\n",
       "      <td>549.0</td>\n",
       "      <td>44.0</td>\n",
       "      <td>Juanna Vines</td>\n",
       "      <td>True</td>\n",
       "    </tr>\n",
       "    <tr>\n",
       "      <th>2</th>\n",
       "      <td>0003_01</td>\n",
       "      <td>Europa</td>\n",
       "      <td>False</td>\n",
       "      <td>A/0/S</td>\n",
       "      <td>TRAPPIST-1e</td>\n",
       "      <td>58.0</td>\n",
       "      <td>True</td>\n",
       "      <td>43.0</td>\n",
       "      <td>3576.0</td>\n",
       "      <td>0.0</td>\n",
       "      <td>6715.0</td>\n",
       "      <td>49.0</td>\n",
       "      <td>Altark Susent</td>\n",
       "      <td>False</td>\n",
       "    </tr>\n",
       "    <tr>\n",
       "      <th>3</th>\n",
       "      <td>0003_02</td>\n",
       "      <td>Europa</td>\n",
       "      <td>False</td>\n",
       "      <td>A/0/S</td>\n",
       "      <td>TRAPPIST-1e</td>\n",
       "      <td>33.0</td>\n",
       "      <td>False</td>\n",
       "      <td>0.0</td>\n",
       "      <td>1283.0</td>\n",
       "      <td>371.0</td>\n",
       "      <td>3329.0</td>\n",
       "      <td>193.0</td>\n",
       "      <td>Solam Susent</td>\n",
       "      <td>False</td>\n",
       "    </tr>\n",
       "    <tr>\n",
       "      <th>4</th>\n",
       "      <td>0004_01</td>\n",
       "      <td>Earth</td>\n",
       "      <td>False</td>\n",
       "      <td>F/1/S</td>\n",
       "      <td>TRAPPIST-1e</td>\n",
       "      <td>16.0</td>\n",
       "      <td>False</td>\n",
       "      <td>303.0</td>\n",
       "      <td>70.0</td>\n",
       "      <td>151.0</td>\n",
       "      <td>565.0</td>\n",
       "      <td>2.0</td>\n",
       "      <td>Willy Santantines</td>\n",
       "      <td>True</td>\n",
       "    </tr>\n",
       "  </tbody>\n",
       "</table>\n",
       "</div>"
      ],
      "text/plain": [
       "  PassengerId HomePlanet CryoSleep  Cabin  Destination   Age    VIP  \\\n",
       "0     0001_01     Europa     False  B/0/P  TRAPPIST-1e  39.0  False   \n",
       "1     0002_01      Earth     False  F/0/S  TRAPPIST-1e  24.0  False   \n",
       "2     0003_01     Europa     False  A/0/S  TRAPPIST-1e  58.0   True   \n",
       "3     0003_02     Europa     False  A/0/S  TRAPPIST-1e  33.0  False   \n",
       "4     0004_01      Earth     False  F/1/S  TRAPPIST-1e  16.0  False   \n",
       "\n",
       "   RoomService  FoodCourt  ShoppingMall     Spa  VRDeck               Name  \\\n",
       "0          0.0        0.0           0.0     0.0     0.0    Maham Ofracculy   \n",
       "1        109.0        9.0          25.0   549.0    44.0       Juanna Vines   \n",
       "2         43.0     3576.0           0.0  6715.0    49.0      Altark Susent   \n",
       "3          0.0     1283.0         371.0  3329.0   193.0       Solam Susent   \n",
       "4        303.0       70.0         151.0   565.0     2.0  Willy Santantines   \n",
       "\n",
       "   Transported  \n",
       "0        False  \n",
       "1         True  \n",
       "2        False  \n",
       "3        False  \n",
       "4         True  "
      ]
     },
     "execution_count": 3,
     "metadata": {},
     "output_type": "execute_result"
    }
   ],
   "source": [
    "# load data to df\n",
    "df_train = pd.read_csv('/kaggle/input/spaceship-titanic/train.csv')\n",
    "df_test = pd.read_csv('/kaggle/input/spaceship-titanic/test.csv')\n",
    "\n",
    "# check shape and head\n",
    "print('train set shape:', df_train.shape)\n",
    "print('test set shape:', df_test.shape)\n",
    "df_train.head()"
   ]
  },
  {
   "cell_type": "markdown",
   "id": "8842a0e6",
   "metadata": {
    "papermill": {
     "duration": 0.022607,
     "end_time": "2023-09-05T19:36:35.896611",
     "exception": false,
     "start_time": "2023-09-05T19:36:35.874004",
     "status": "completed"
    },
    "tags": []
   },
   "source": [
    "**Features and Target Description**\n",
    "\n",
    "train.csv - Personal records for about two-thirds (~8700) of the passengers, to be used as training data.<br>\n",
    "* `PassengerId` - A unique Id for each passenger. Each Id takes the form gggg_pp where gggg indicates a group the passenger is travelling with and pp is their number within the group. People in a group are often family members, but not always.<br>\n",
    "* `HomePlanet` - The planet the passenger departed from, typically their planet of permanent residence.<br>\n",
    "* `CryoSleep` - Indicates whether the passenger elected to be put into suspended animation for the duration of the voyage. Passengers in cryosleep are confined to their cabins.<br>\n",
    "* `Cabin` - The cabin number where the passenger is staying. Takes the form deck/num/side, where side can be either P for Port or S for Starboard.<br>\n",
    "* `Destination` - The planet the passenger will be debarking to.<br>\n",
    "* `Age` - The age of the passenger.<br>\n",
    "* `VIP` - Whether the passenger has paid for special VIP service during the voyage.<br>\n",
    "* `RoomService`, `FoodCourt`, `ShoppingMall`, `Spa`, `VRDeck` - Amount the passenger has billed at each of the Spaceship Titanic's many luxury amenities.<br>\n",
    "* `Name` - The first and last names of the passenger.<br>\n",
    "* `Transported` - Whether the passenger was transported to another dimension. **This is the target, the column we are trying to predict.**"
   ]
  },
  {
   "cell_type": "markdown",
   "id": "414cfa80",
   "metadata": {
    "papermill": {
     "duration": 0.02307,
     "end_time": "2023-09-05T19:36:35.943187",
     "exception": false,
     "start_time": "2023-09-05T19:36:35.920117",
     "status": "completed"
    },
    "tags": []
   },
   "source": [
    "**Data Types**"
   ]
  },
  {
   "cell_type": "code",
   "execution_count": 4,
   "id": "6758d0ef",
   "metadata": {
    "execution": {
     "iopub.execute_input": "2023-09-05T19:36:35.991308Z",
     "iopub.status.busy": "2023-09-05T19:36:35.990921Z",
     "iopub.status.idle": "2023-09-05T19:36:36.041730Z",
     "shell.execute_reply": "2023-09-05T19:36:36.040423Z"
    },
    "papermill": {
     "duration": 0.078595,
     "end_time": "2023-09-05T19:36:36.044719",
     "exception": false,
     "start_time": "2023-09-05T19:36:35.966124",
     "status": "completed"
    },
    "tags": []
   },
   "outputs": [
    {
     "name": "stdout",
     "output_type": "stream",
     "text": [
      "<class 'pandas.core.frame.DataFrame'>\n",
      "RangeIndex: 8693 entries, 0 to 8692\n",
      "Data columns (total 14 columns):\n",
      " #   Column        Non-Null Count  Dtype  \n",
      "---  ------        --------------  -----  \n",
      " 0   PassengerId   8693 non-null   object \n",
      " 1   HomePlanet    8492 non-null   object \n",
      " 2   CryoSleep     8476 non-null   object \n",
      " 3   Cabin         8494 non-null   object \n",
      " 4   Destination   8511 non-null   object \n",
      " 5   Age           8514 non-null   float64\n",
      " 6   VIP           8490 non-null   object \n",
      " 7   RoomService   8512 non-null   float64\n",
      " 8   FoodCourt     8510 non-null   float64\n",
      " 9   ShoppingMall  8485 non-null   float64\n",
      " 10  Spa           8510 non-null   float64\n",
      " 11  VRDeck        8505 non-null   float64\n",
      " 12  Name          8493 non-null   object \n",
      " 13  Transported   8693 non-null   bool   \n",
      "dtypes: bool(1), float64(6), object(7)\n",
      "memory usage: 891.5+ KB\n"
     ]
    },
    {
     "data": {
      "text/plain": [
       "None"
      ]
     },
     "metadata": {},
     "output_type": "display_data"
    }
   ],
   "source": [
    "display(df_train.info())"
   ]
  },
  {
   "cell_type": "code",
   "execution_count": 5,
   "id": "483c38f0",
   "metadata": {
    "execution": {
     "iopub.execute_input": "2023-09-05T19:36:36.094629Z",
     "iopub.status.busy": "2023-09-05T19:36:36.093649Z",
     "iopub.status.idle": "2023-09-05T19:36:36.136277Z",
     "shell.execute_reply": "2023-09-05T19:36:36.135081Z"
    },
    "papermill": {
     "duration": 0.070763,
     "end_time": "2023-09-05T19:36:36.139072",
     "exception": false,
     "start_time": "2023-09-05T19:36:36.068309",
     "status": "completed"
    },
    "tags": []
   },
   "outputs": [
    {
     "data": {
      "text/html": [
       "<div>\n",
       "<style scoped>\n",
       "    .dataframe tbody tr th:only-of-type {\n",
       "        vertical-align: middle;\n",
       "    }\n",
       "\n",
       "    .dataframe tbody tr th {\n",
       "        vertical-align: top;\n",
       "    }\n",
       "\n",
       "    .dataframe thead th {\n",
       "        text-align: right;\n",
       "    }\n",
       "</style>\n",
       "<table border=\"1\" class=\"dataframe\">\n",
       "  <thead>\n",
       "    <tr style=\"text-align: right;\">\n",
       "      <th></th>\n",
       "      <th>count</th>\n",
       "      <th>mean</th>\n",
       "      <th>std</th>\n",
       "      <th>min</th>\n",
       "      <th>25%</th>\n",
       "      <th>50%</th>\n",
       "      <th>75%</th>\n",
       "      <th>max</th>\n",
       "    </tr>\n",
       "  </thead>\n",
       "  <tbody>\n",
       "    <tr>\n",
       "      <th>Age</th>\n",
       "      <td>8514.0</td>\n",
       "      <td>28.827930</td>\n",
       "      <td>14.489021</td>\n",
       "      <td>0.0</td>\n",
       "      <td>19.0</td>\n",
       "      <td>27.0</td>\n",
       "      <td>38.0</td>\n",
       "      <td>79.0</td>\n",
       "    </tr>\n",
       "    <tr>\n",
       "      <th>RoomService</th>\n",
       "      <td>8512.0</td>\n",
       "      <td>224.687617</td>\n",
       "      <td>666.717663</td>\n",
       "      <td>0.0</td>\n",
       "      <td>0.0</td>\n",
       "      <td>0.0</td>\n",
       "      <td>47.0</td>\n",
       "      <td>14327.0</td>\n",
       "    </tr>\n",
       "    <tr>\n",
       "      <th>FoodCourt</th>\n",
       "      <td>8510.0</td>\n",
       "      <td>458.077203</td>\n",
       "      <td>1611.489240</td>\n",
       "      <td>0.0</td>\n",
       "      <td>0.0</td>\n",
       "      <td>0.0</td>\n",
       "      <td>76.0</td>\n",
       "      <td>29813.0</td>\n",
       "    </tr>\n",
       "    <tr>\n",
       "      <th>ShoppingMall</th>\n",
       "      <td>8485.0</td>\n",
       "      <td>173.729169</td>\n",
       "      <td>604.696458</td>\n",
       "      <td>0.0</td>\n",
       "      <td>0.0</td>\n",
       "      <td>0.0</td>\n",
       "      <td>27.0</td>\n",
       "      <td>23492.0</td>\n",
       "    </tr>\n",
       "    <tr>\n",
       "      <th>Spa</th>\n",
       "      <td>8510.0</td>\n",
       "      <td>311.138778</td>\n",
       "      <td>1136.705535</td>\n",
       "      <td>0.0</td>\n",
       "      <td>0.0</td>\n",
       "      <td>0.0</td>\n",
       "      <td>59.0</td>\n",
       "      <td>22408.0</td>\n",
       "    </tr>\n",
       "    <tr>\n",
       "      <th>VRDeck</th>\n",
       "      <td>8505.0</td>\n",
       "      <td>304.854791</td>\n",
       "      <td>1145.717189</td>\n",
       "      <td>0.0</td>\n",
       "      <td>0.0</td>\n",
       "      <td>0.0</td>\n",
       "      <td>46.0</td>\n",
       "      <td>24133.0</td>\n",
       "    </tr>\n",
       "  </tbody>\n",
       "</table>\n",
       "</div>"
      ],
      "text/plain": [
       "               count        mean          std  min   25%   50%   75%      max\n",
       "Age           8514.0   28.827930    14.489021  0.0  19.0  27.0  38.0     79.0\n",
       "RoomService   8512.0  224.687617   666.717663  0.0   0.0   0.0  47.0  14327.0\n",
       "FoodCourt     8510.0  458.077203  1611.489240  0.0   0.0   0.0  76.0  29813.0\n",
       "ShoppingMall  8485.0  173.729169   604.696458  0.0   0.0   0.0  27.0  23492.0\n",
       "Spa           8510.0  311.138778  1136.705535  0.0   0.0   0.0  59.0  22408.0\n",
       "VRDeck        8505.0  304.854791  1145.717189  0.0   0.0   0.0  46.0  24133.0"
      ]
     },
     "execution_count": 5,
     "metadata": {},
     "output_type": "execute_result"
    }
   ],
   "source": [
    "df_train.describe().T"
   ]
  },
  {
   "cell_type": "markdown",
   "id": "af16c4a1",
   "metadata": {
    "papermill": {
     "duration": 0.023346,
     "end_time": "2023-09-05T19:36:36.185823",
     "exception": false,
     "start_time": "2023-09-05T19:36:36.162477",
     "status": "completed"
    },
    "tags": []
   },
   "source": [
    "**Duplicates and Missing Values**"
   ]
  },
  {
   "cell_type": "code",
   "execution_count": 6,
   "id": "013fbc3f",
   "metadata": {
    "execution": {
     "iopub.execute_input": "2023-09-05T19:36:36.234564Z",
     "iopub.status.busy": "2023-09-05T19:36:36.234170Z",
     "iopub.status.idle": "2023-09-05T19:36:36.302901Z",
     "shell.execute_reply": "2023-09-05T19:36:36.301824Z"
    },
    "papermill": {
     "duration": 0.096856,
     "end_time": "2023-09-05T19:36:36.305691",
     "exception": false,
     "start_time": "2023-09-05T19:36:36.208835",
     "status": "completed"
    },
    "tags": []
   },
   "outputs": [
    {
     "name": "stdout",
     "output_type": "stream",
     "text": [
      "Duplicates for train set: 0\n",
      "Duplicates for test set: 0\n",
      "\n",
      "Missing Values for train set: PassengerId       0\n",
      "HomePlanet      201\n",
      "CryoSleep       217\n",
      "Cabin           199\n",
      "Destination     182\n",
      "Age             179\n",
      "VIP             203\n",
      "RoomService     181\n",
      "FoodCourt       183\n",
      "ShoppingMall    208\n",
      "Spa             183\n",
      "VRDeck          188\n",
      "Name            200\n",
      "Transported       0\n",
      "dtype: int64\n",
      "Missing Values for test set: PassengerId       0\n",
      "HomePlanet       87\n",
      "CryoSleep        93\n",
      "Cabin           100\n",
      "Destination      92\n",
      "Age              91\n",
      "VIP              93\n",
      "RoomService      82\n",
      "FoodCourt       106\n",
      "ShoppingMall     98\n",
      "Spa             101\n",
      "VRDeck           80\n",
      "Name             94\n",
      "dtype: int64\n"
     ]
    }
   ],
   "source": [
    "# Duplicates\n",
    "print(f'Duplicates for train set: {df_train.duplicated().sum()}')\n",
    "print(f'Duplicates for test set: {df_test.duplicated().sum()}\\n')\n",
    "\n",
    "# Missing Values\n",
    "print(f'Missing Values for train set: {df_train.isna().sum()}')\n",
    "print(f'Missing Values for test set: {df_test.isna().sum()}')\n"
   ]
  },
  {
   "cell_type": "markdown",
   "id": "4cdef596",
   "metadata": {
    "papermill": {
     "duration": 0.023227,
     "end_time": "2023-09-05T19:36:36.352197",
     "exception": false,
     "start_time": "2023-09-05T19:36:36.328970",
     "status": "completed"
    },
    "tags": []
   },
   "source": [
    "There are no duplicates. I will deal with the NA after the split to avoid data leaks."
   ]
  },
  {
   "cell_type": "markdown",
   "id": "aa71c462",
   "metadata": {
    "papermill": {
     "duration": 0.022974,
     "end_time": "2023-09-05T19:36:36.399186",
     "exception": false,
     "start_time": "2023-09-05T19:36:36.376212",
     "status": "completed"
    },
    "tags": []
   },
   "source": [
    "<a id='section-two'></a>\n",
    "## 2. EDA"
   ]
  },
  {
   "cell_type": "markdown",
   "id": "6ecf1153",
   "metadata": {
    "papermill": {
     "duration": 0.022718,
     "end_time": "2023-09-05T19:36:36.445434",
     "exception": false,
     "start_time": "2023-09-05T19:36:36.422716",
     "status": "completed"
    },
    "tags": []
   },
   "source": [
    "## Transported depending on Origin, Destination, CryoSleep and VIP\n",
    "* The ratio of Transported passenger is way lower for Earth than for Mars and particularly Europa\n",
    "* It is worse to go to Trappist than to PSO or 55 Cancri\n",
    "* Passenger in CryoSleep mode are transported to 82%, while the other are to 32%\n",
    "* 62% od VIPs are transported against "
   ]
  },
  {
   "cell_type": "code",
   "execution_count": 7,
   "id": "ff11bcb0",
   "metadata": {
    "execution": {
     "iopub.execute_input": "2023-09-05T19:36:36.494716Z",
     "iopub.status.busy": "2023-09-05T19:36:36.494265Z",
     "iopub.status.idle": "2023-09-05T19:36:37.779352Z",
     "shell.execute_reply": "2023-09-05T19:36:37.777951Z"
    },
    "papermill": {
     "duration": 1.313146,
     "end_time": "2023-09-05T19:36:37.782531",
     "exception": false,
     "start_time": "2023-09-05T19:36:36.469385",
     "status": "completed"
    },
    "tags": []
   },
   "outputs": [
    {
     "data": {
      "text/plain": [
       "<Axes: xlabel='VIP', ylabel='count'>"
      ]
     },
     "execution_count": 7,
     "metadata": {},
     "output_type": "execute_result"
    },
    {
     "data": {
      "image/png": "[encoded data removed]",
      "text/plain": [
       "<Figure size 1400x800 with 4 Axes>"
      ]
     },
     "metadata": {},
     "output_type": "display_data"
    }
   ],
   "source": [
    "# define plotting region (2 row, 2 columns)\n",
    "fig, axes = plt.subplots(nrows=2, ncols=2, figsize=(14,8))\n",
    "\n",
    "# create one countplot for each subplot\n",
    "\n",
    "sns.countplot(data=df_train, x='HomePlanet', hue='Transported', dodge=True, ax=axes[0,0])\n",
    "sns.countplot(data=df_train, x='Destination', hue='Transported', dodge=True, ax=axes[0,1])\n",
    "sns.countplot(data=df_train, x='CryoSleep', hue='Transported', dodge=True, ax=axes[1,0])\n",
    "sns.countplot(data=df_train, x='VIP', hue='Transported', ax=axes[1,1])"
   ]
  },
  {
   "cell_type": "markdown",
   "id": "a63a95e6",
   "metadata": {
    "papermill": {
     "duration": 0.025322,
     "end_time": "2023-09-05T19:36:37.834136",
     "exception": false,
     "start_time": "2023-09-05T19:36:37.808814",
     "status": "completed"
    },
    "tags": []
   },
   "source": [
    "**New feature : Alone or not**<br>\n",
    "Using the cabin numbers, I calculate how many people are in the cabin and set 'IsAlone' to 1 if there is only 1 person.\n",
    "The feature seems interesting as the ratio of transported is much bigger for non solo person."
   ]
  },
  {
   "cell_type": "code",
   "execution_count": 8,
   "id": "de9c77be",
   "metadata": {
    "execution": {
     "iopub.execute_input": "2023-09-05T19:36:37.886329Z",
     "iopub.status.busy": "2023-09-05T19:36:37.885871Z",
     "iopub.status.idle": "2023-09-05T19:37:33.767678Z",
     "shell.execute_reply": "2023-09-05T19:37:33.766382Z"
    },
    "papermill": {
     "duration": 55.911788,
     "end_time": "2023-09-05T19:37:33.770801",
     "exception": false,
     "start_time": "2023-09-05T19:36:37.859013",
     "status": "completed"
    },
    "tags": []
   },
   "outputs": [
    {
     "data": {
      "text/plain": [
       "<Axes: xlabel='IsAlone', ylabel='count'>"
      ]
     },
     "execution_count": 8,
     "metadata": {},
     "output_type": "execute_result"
    },
    {
     "data": {
      "image/png": "[encoded data removed]",
      "text/plain": [
       "<Figure size 640x480 with 1 Axes>"
      ]
     },
     "metadata": {},
     "output_type": "display_data"
    }
   ],
   "source": [
    "df_train['CabinGroup'] = df_train['PassengerId'].apply(lambda x: x.split('_')[0] if isinstance(x, str) else '')\n",
    "df_train['IsAlone'] = df_train['CabinGroup'].apply(lambda x: 1 if df_train['CabinGroup'].value_counts()[x] == 1 else 0)\n",
    "\n",
    "df_test['CabinGroup'] = df_test['PassengerId'].apply(lambda x: x.split('_')[0] if isinstance(x, str) else '')\n",
    "df_test['IsAlone'] = df_test['CabinGroup'].apply(lambda x: 1 if df_test['CabinGroup'].value_counts()[x] == 1 else 0)\n",
    "sns.countplot(data=df_train, x='IsAlone', hue='Transported', dodge=True)"
   ]
  },
  {
   "cell_type": "markdown",
   "id": "dda8c25d",
   "metadata": {
    "papermill": {
     "duration": 0.025521,
     "end_time": "2023-09-05T19:37:33.822290",
     "exception": false,
     "start_time": "2023-09-05T19:37:33.796769",
     "status": "completed"
    },
    "tags": []
   },
   "source": [
    "## Age, RoomService, FoodCourt, ShoppingMall, Spa, VRDeck"
   ]
  },
  {
   "cell_type": "code",
   "execution_count": 9,
   "id": "40ad06e0",
   "metadata": {
    "execution": {
     "iopub.execute_input": "2023-09-05T19:37:33.875691Z",
     "iopub.status.busy": "2023-09-05T19:37:33.875267Z",
     "iopub.status.idle": "2023-09-05T19:37:37.222669Z",
     "shell.execute_reply": "2023-09-05T19:37:37.221505Z"
    },
    "papermill": {
     "duration": 3.377497,
     "end_time": "2023-09-05T19:37:37.225641",
     "exception": false,
     "start_time": "2023-09-05T19:37:33.848144",
     "status": "completed"
    },
    "tags": []
   },
   "outputs": [
    {
     "data": {
      "text/plain": [
       "<Axes: xlabel='Age', ylabel='Transported'>"
      ]
     },
     "execution_count": 9,
     "metadata": {},
     "output_type": "execute_result"
    },
    {
     "data": {
      "image/png": "[encoded data removed]",
      "text/plain": [
       "<Figure size 640x480 with 1 Axes>"
      ]
     },
     "metadata": {},
     "output_type": "display_data"
    }
   ],
   "source": [
    "sns.lineplot(data=df_train,\n",
    "              x='Age',\n",
    "              y='Transported')"
   ]
  },
  {
   "cell_type": "markdown",
   "id": "281521e9",
   "metadata": {
    "papermill": {
     "duration": 0.026284,
     "end_time": "2023-09-05T19:37:37.278798",
     "exception": false,
     "start_time": "2023-09-05T19:37:37.252514",
     "status": "completed"
    },
    "tags": []
   },
   "source": [
    "Childs (0-10) are more likely to be transported and older people (60+) are less likely. I will create categories."
   ]
  },
  {
   "cell_type": "code",
   "execution_count": 10,
   "id": "66f803b9",
   "metadata": {
    "execution": {
     "iopub.execute_input": "2023-09-05T19:37:37.334883Z",
     "iopub.status.busy": "2023-09-05T19:37:37.334443Z",
     "iopub.status.idle": "2023-09-05T19:37:37.353083Z",
     "shell.execute_reply": "2023-09-05T19:37:37.351861Z"
    },
    "papermill": {
     "duration": 0.049406,
     "end_time": "2023-09-05T19:37:37.355734",
     "exception": false,
     "start_time": "2023-09-05T19:37:37.306328",
     "status": "completed"
    },
    "tags": []
   },
   "outputs": [
    {
     "data": {
      "text/plain": [
       "young adult    1198\n",
       "kid            1186\n",
       "adult           908\n",
       "older           543\n",
       "child           269\n",
       "Name: Age_Type, dtype: int64"
      ]
     },
     "execution_count": 10,
     "metadata": {},
     "output_type": "execute_result"
    }
   ],
   "source": [
    "bins = [0, 12, 22, 32, 45, np.inf]\n",
    "names = ['child', 'kid', 'young adult', 'adult', 'older']\n",
    "df_train['Age_Type'] = pd.cut(df_train['Age'], bins, labels=names)\n",
    "df_test['Age_Type'] = pd.cut(df_test['Age'], bins, labels=names)\n",
    "df_test['Age_Type'].value_counts()"
   ]
  },
  {
   "cell_type": "markdown",
   "id": "113ff86c",
   "metadata": {
    "papermill": {
     "duration": 0.026525,
     "end_time": "2023-09-05T19:37:37.409150",
     "exception": false,
     "start_time": "2023-09-05T19:37:37.382625",
     "status": "completed"
    },
    "tags": []
   },
   "source": [
    "## correlation"
   ]
  },
  {
   "cell_type": "code",
   "execution_count": 11,
   "id": "3bb5d4c8",
   "metadata": {
    "execution": {
     "iopub.execute_input": "2023-09-05T19:37:37.467249Z",
     "iopub.status.busy": "2023-09-05T19:37:37.466826Z",
     "iopub.status.idle": "2023-09-05T19:37:38.135334Z",
     "shell.execute_reply": "2023-09-05T19:37:38.134103Z"
    },
    "papermill": {
     "duration": 0.702596,
     "end_time": "2023-09-05T19:37:38.138711",
     "exception": false,
     "start_time": "2023-09-05T19:37:37.436115",
     "status": "completed"
    },
    "tags": []
   },
   "outputs": [
    {
     "name": "stderr",
     "output_type": "stream",
     "text": [
      "/tmp/ipykernel_20/2288760062.py:1: FutureWarning: The default value of numeric_only in DataFrame.corr is deprecated. In a future version, it will default to False. Select only valid columns or specify the value of numeric_only to silence this warning.\n",
      "  corr = df_train.corr()\n"
     ]
    },
    {
     "data": {
      "text/plain": [
       "<Axes: >"
      ]
     },
     "execution_count": 11,
     "metadata": {},
     "output_type": "execute_result"
    },
    {
     "data": {
      "image/png": "[encoded data removed]",
      "text/plain": [
       "<Figure size 640x480 with 2 Axes>"
      ]
     },
     "metadata": {},
     "output_type": "display_data"
    }
   ],
   "source": [
    "corr = df_train.corr()\n",
    "\n",
    "# Generate a mask for the upper triangle\n",
    "mask = np.triu(np.ones_like(corr, dtype=bool))\n",
    "\n",
    "cmap = sns.diverging_palette(230, 20, as_cmap=True)\n",
    "\n",
    "sns.heatmap(corr, mask=mask, cmap=cmap, vmax=.3, center=0, square=True, linewidths=.5, cbar_kws={\"shrink\": .5}, annot=True, fmt='.2f')"
   ]
  },
  {
   "cell_type": "code",
   "execution_count": 12,
   "id": "85247c4a",
   "metadata": {
    "execution": {
     "iopub.execute_input": "2023-09-05T19:37:38.199243Z",
     "iopub.status.busy": "2023-09-05T19:37:38.198841Z",
     "iopub.status.idle": "2023-09-05T19:37:41.981202Z",
     "shell.execute_reply": "2023-09-05T19:37:41.979831Z"
    },
    "papermill": {
     "duration": 3.81627,
     "end_time": "2023-09-05T19:37:41.984150",
     "exception": false,
     "start_time": "2023-09-05T19:37:38.167880",
     "status": "completed"
    },
    "tags": []
   },
   "outputs": [
    {
     "data": {
      "image/png": "[encoded data removed]",
      "text/plain": [
       "<Figure size 1400x700 with 6 Axes>"
      ]
     },
     "metadata": {},
     "output_type": "display_data"
    }
   ],
   "source": [
    "fig, axes = plt.subplots(nrows=2, ncols=3, figsize=(14,7))\n",
    "sns.histplot(data=df_train, x='Age', bins=50, ax=axes[0,0])\n",
    "sns.histplot(data=df_train, x='RoomService', hue='Transported', kde=True, bins=50, ax=axes[0,1])\n",
    "sns.histplot(data=df_train, x='Spa', bins=50, hue='Transported', ax=axes[0,2])\n",
    "sns.histplot(data=df_train, x='FoodCourt', hue='Transported', bins=50, ax=axes[1,0])\n",
    "sns.histplot(data=df_train, x='ShoppingMall', hue='Transported', bins=50, ax=axes[1,1])\n",
    "sns.histplot(data=df_train, x='VRDeck', hue='Transported', bins=50, ax=axes[1,2]);"
   ]
  },
  {
   "cell_type": "markdown",
   "id": "a7ff5782",
   "metadata": {
    "papermill": {
     "duration": 0.029498,
     "end_time": "2023-09-05T19:37:42.042877",
     "exception": false,
     "start_time": "2023-09-05T19:37:42.013379",
     "status": "completed"
    },
    "tags": []
   },
   "source": [
    "So it is not obvious, people that are spending a very low amount seems to be more transported.\n",
    "I can create a category of people not spending any money (or spending less that a certain amount (10% of the median for example).\n",
    "Because the correlation with the spending feature seems low, I might create a column mixing the spendings over the five columns."
   ]
  },
  {
   "cell_type": "code",
   "execution_count": 13,
   "id": "a3a12eaf",
   "metadata": {
    "execution": {
     "iopub.execute_input": "2023-09-05T19:37:42.104607Z",
     "iopub.status.busy": "2023-09-05T19:37:42.104221Z",
     "iopub.status.idle": "2023-09-05T19:37:43.091505Z",
     "shell.execute_reply": "2023-09-05T19:37:43.090221Z"
    },
    "papermill": {
     "duration": 1.02118,
     "end_time": "2023-09-05T19:37:43.094361",
     "exception": false,
     "start_time": "2023-09-05T19:37:42.073181",
     "status": "completed"
    },
    "tags": []
   },
   "outputs": [],
   "source": [
    "df_train['NoSpending'] = df_train[['RoomService', 'FoodCourt', 'ShoppingMall', 'Spa', 'VRDeck',]].apply(lambda row: 1 if row.sum() == 0 else 0, axis=1)\n",
    "df_test['NoSpending'] = df_test[['RoomService', 'FoodCourt', 'ShoppingMall', 'Spa', 'VRDeck',]].apply(lambda row: 1 if row.sum() == 0 else 0, axis=1)"
   ]
  },
  {
   "cell_type": "markdown",
   "id": "d4d000ec",
   "metadata": {
    "papermill": {
     "duration": 0.029951,
     "end_time": "2023-09-05T19:37:43.155172",
     "exception": false,
     "start_time": "2023-09-05T19:37:43.125221",
     "status": "completed"
    },
    "tags": []
   },
   "source": [
    "**Countplot**<br>\n",
    "I could remove outliers but I'll keep them for the time being"
   ]
  },
  {
   "cell_type": "code",
   "execution_count": 14,
   "id": "629b62f1",
   "metadata": {
    "execution": {
     "iopub.execute_input": "2023-09-05T19:37:43.217387Z",
     "iopub.status.busy": "2023-09-05T19:37:43.216970Z",
     "iopub.status.idle": "2023-09-05T19:37:44.722160Z",
     "shell.execute_reply": "2023-09-05T19:37:44.720678Z"
    },
    "papermill": {
     "duration": 1.539864,
     "end_time": "2023-09-05T19:37:44.725306",
     "exception": false,
     "start_time": "2023-09-05T19:37:43.185442",
     "status": "completed"
    },
    "tags": []
   },
   "outputs": [
    {
     "data": {
      "image/png": "[encoded data removed]",
      "text/plain": [
       "<Figure size 1400x700 with 6 Axes>"
      ]
     },
     "metadata": {},
     "output_type": "display_data"
    }
   ],
   "source": [
    "fig, axes = plt.subplots(nrows=2, ncols=3, figsize=(14,7))\n",
    "sns.boxplot(data=df_train, x='Age', ax=axes[0,0])\n",
    "sns.boxplot(data=df_train, x='RoomService', ax=axes[0,1])\n",
    "sns.boxplot(data=df_train, x='Spa', ax=axes[0,2])\n",
    "sns.boxplot(data=df_train, x='FoodCourt', ax=axes[1,0])\n",
    "sns.boxplot(data=df_train, x='ShoppingMall', ax=axes[1,1])\n",
    "sns.boxplot(data=df_train, x='VRDeck', ax=axes[1,2]);"
   ]
  },
  {
   "cell_type": "markdown",
   "id": "f5b22a08",
   "metadata": {
    "execution": {
     "iopub.execute_input": "2023-08-20T11:49:25.235751Z",
     "iopub.status.busy": "2023-08-20T11:49:25.235011Z",
     "iopub.status.idle": "2023-08-20T11:49:25.240544Z",
     "shell.execute_reply": "2023-08-20T11:49:25.239544Z",
     "shell.execute_reply.started": "2023-08-20T11:49:25.235717Z"
    },
    "papermill": {
     "duration": 0.029976,
     "end_time": "2023-09-05T19:37:44.786845",
     "exception": false,
     "start_time": "2023-09-05T19:37:44.756869",
     "status": "completed"
    },
    "tags": []
   },
   "source": [
    "<a id=\"section-three\"></a>\n",
    "# 3. Model Testing"
   ]
  },
  {
   "cell_type": "markdown",
   "id": "617cfbc1",
   "metadata": {
    "papermill": {
     "duration": 0.030255,
     "end_time": "2023-09-05T19:37:44.848280",
     "exception": false,
     "start_time": "2023-09-05T19:37:44.818025",
     "status": "completed"
    },
    "tags": []
   },
   "source": [
    "## a. Features Selection\n",
    "\n",
    "`PassengerId`, `Cabin` and `Name` seems useless so I will remove them<br>\n",
    "\n",
    "I will apply LabelEncoder on `HomePlanet`, `Destination`, `CryoSleep`, `VIP`<br>\n",
    "\n",
    "I will normalize the other features"
   ]
  },
  {
   "cell_type": "code",
   "execution_count": 15,
   "id": "19d42db6",
   "metadata": {
    "execution": {
     "iopub.execute_input": "2023-09-05T19:37:44.911505Z",
     "iopub.status.busy": "2023-09-05T19:37:44.911068Z",
     "iopub.status.idle": "2023-09-05T19:37:45.559725Z",
     "shell.execute_reply": "2023-09-05T19:37:45.558478Z"
    },
    "papermill": {
     "duration": 0.683622,
     "end_time": "2023-09-05T19:37:45.562416",
     "exception": false,
     "start_time": "2023-09-05T19:37:44.878794",
     "status": "completed"
    },
    "tags": []
   },
   "outputs": [],
   "source": [
    "# classify the features and target\n",
    "feat_cat = ['HomePlanet', 'CryoSleep', 'Destination', 'VIP', 'Age_Type']\n",
    "feat_num = ['RoomService', 'FoodCourt', 'ShoppingMall', 'Spa', 'VRDeck', 'NoSpending', 'IsAlone']\n",
    "feat_drop = ['Age', 'PassengerId', 'Cabin', 'Name', 'CabinGroup']\n",
    "target = 'Transported'\n",
    "\n",
    "# build features (X) and target(y)\n",
    "X_train = df_train.drop(columns=(feat_drop))\n",
    "X_train = X_train.drop(columns=(target))\n",
    "y_train = df_train[target]\n",
    "X_test = df_test.drop(columns=feat_drop)\n",
    "\n",
    "# split X train into train and 'validation/test'\n",
    "from sklearn.model_selection import train_test_split\n",
    "X_train2, X_test2, y_train2, y_test2 = train_test_split(X_train, y_train, test_size=0.2, random_state=73)\n",
    "\n",
    "# Impute NAs for the age and VIP\n",
    "from sklearn.impute import SimpleImputer\n",
    "si = SimpleImputer(strategy='median')\n",
    "X_train2[feat_num] = si.fit_transform(X_train2[feat_num])\n",
    "X_test2[feat_num] = si.transform(X_test2[feat_num])\n",
    "X_test[feat_num] = si.transform(X_test[feat_num])\n",
    "\n",
    "# log of skewed distribution\n",
    "for feat in feat_num:\n",
    "    X_train2[feat]=np.log(1+X_train2[feat])\n",
    "    X_test2[feat]=np.log(1+X_test2[feat])\n",
    "    X_test[feat]=np.log(1+X_test[feat])\n",
    "\n",
    "# Label encoding the categorical features\n",
    "from sklearn.preprocessing import LabelEncoder\n",
    "le = LabelEncoder()\n",
    "for col in feat_cat:\n",
    "    X_train2[col] = le.fit_transform(X_train2[col])\n",
    "    X_test2[col] = le.transform(X_test2[col])\n",
    "    X_test[col] = le.transform(X_test[col])\n",
    "    \n",
    "# Impute for the \n",
    "from sklearn.impute import SimpleImputer\n",
    "si2 = SimpleImputer(strategy='most_frequent')\n",
    "X_train2[feat_num] = si.fit_transform(X_train2[feat_num])\n",
    "X_test2[feat_num] = si.transform(X_test2[feat_num])\n",
    "X_test[feat_num] = si.transform(X_test[feat_num])"
   ]
  },
  {
   "cell_type": "code",
   "execution_count": 16,
   "id": "b1d1b31b",
   "metadata": {
    "execution": {
     "iopub.execute_input": "2023-09-05T19:37:45.624340Z",
     "iopub.status.busy": "2023-09-05T19:37:45.623918Z",
     "iopub.status.idle": "2023-09-05T19:37:45.683303Z",
     "shell.execute_reply": "2023-09-05T19:37:45.682166Z"
    },
    "papermill": {
     "duration": 0.093555,
     "end_time": "2023-09-05T19:37:45.685859",
     "exception": false,
     "start_time": "2023-09-05T19:37:45.592304",
     "status": "completed"
    },
    "tags": []
   },
   "outputs": [
    {
     "data": {
      "text/html": [
       "<div>\n",
       "<style scoped>\n",
       "    .dataframe tbody tr th:only-of-type {\n",
       "        vertical-align: middle;\n",
       "    }\n",
       "\n",
       "    .dataframe tbody tr th {\n",
       "        vertical-align: top;\n",
       "    }\n",
       "\n",
       "    .dataframe thead th {\n",
       "        text-align: right;\n",
       "    }\n",
       "</style>\n",
       "<table border=\"1\" class=\"dataframe\">\n",
       "  <thead>\n",
       "    <tr style=\"text-align: right;\">\n",
       "      <th></th>\n",
       "      <th>count</th>\n",
       "      <th>mean</th>\n",
       "      <th>std</th>\n",
       "      <th>min</th>\n",
       "      <th>25%</th>\n",
       "      <th>50%</th>\n",
       "      <th>75%</th>\n",
       "      <th>max</th>\n",
       "    </tr>\n",
       "  </thead>\n",
       "  <tbody>\n",
       "    <tr>\n",
       "      <th>HomePlanet</th>\n",
       "      <td>6954.0</td>\n",
       "      <td>0.716710</td>\n",
       "      <td>0.862628</td>\n",
       "      <td>0.0</td>\n",
       "      <td>0.0</td>\n",
       "      <td>0.000000</td>\n",
       "      <td>1.000000</td>\n",
       "      <td>3.000000</td>\n",
       "    </tr>\n",
       "    <tr>\n",
       "      <th>CryoSleep</th>\n",
       "      <td>6954.0</td>\n",
       "      <td>0.407104</td>\n",
       "      <td>0.541462</td>\n",
       "      <td>0.0</td>\n",
       "      <td>0.0</td>\n",
       "      <td>0.000000</td>\n",
       "      <td>1.000000</td>\n",
       "      <td>2.000000</td>\n",
       "    </tr>\n",
       "    <tr>\n",
       "      <th>Destination</th>\n",
       "      <td>6954.0</td>\n",
       "      <td>1.508628</td>\n",
       "      <td>0.841877</td>\n",
       "      <td>0.0</td>\n",
       "      <td>1.0</td>\n",
       "      <td>2.000000</td>\n",
       "      <td>2.000000</td>\n",
       "      <td>3.000000</td>\n",
       "    </tr>\n",
       "    <tr>\n",
       "      <th>VIP</th>\n",
       "      <td>6954.0</td>\n",
       "      <td>0.068162</td>\n",
       "      <td>0.330546</td>\n",
       "      <td>0.0</td>\n",
       "      <td>0.0</td>\n",
       "      <td>0.000000</td>\n",
       "      <td>0.000000</td>\n",
       "      <td>2.000000</td>\n",
       "    </tr>\n",
       "    <tr>\n",
       "      <th>RoomService</th>\n",
       "      <td>6954.0</td>\n",
       "      <td>1.712792</td>\n",
       "      <td>2.709688</td>\n",
       "      <td>0.0</td>\n",
       "      <td>0.0</td>\n",
       "      <td>0.000000</td>\n",
       "      <td>3.637586</td>\n",
       "      <td>9.569971</td>\n",
       "    </tr>\n",
       "    <tr>\n",
       "      <th>FoodCourt</th>\n",
       "      <td>6954.0</td>\n",
       "      <td>1.880444</td>\n",
       "      <td>2.921610</td>\n",
       "      <td>0.0</td>\n",
       "      <td>0.0</td>\n",
       "      <td>0.000000</td>\n",
       "      <td>3.988984</td>\n",
       "      <td>10.302733</td>\n",
       "    </tr>\n",
       "    <tr>\n",
       "      <th>ShoppingMall</th>\n",
       "      <td>6954.0</td>\n",
       "      <td>1.580829</td>\n",
       "      <td>2.565356</td>\n",
       "      <td>0.0</td>\n",
       "      <td>0.0</td>\n",
       "      <td>0.000000</td>\n",
       "      <td>3.044522</td>\n",
       "      <td>10.064458</td>\n",
       "    </tr>\n",
       "    <tr>\n",
       "      <th>Spa</th>\n",
       "      <td>6954.0</td>\n",
       "      <td>1.841251</td>\n",
       "      <td>2.775314</td>\n",
       "      <td>0.0</td>\n",
       "      <td>0.0</td>\n",
       "      <td>0.000000</td>\n",
       "      <td>4.056095</td>\n",
       "      <td>10.017218</td>\n",
       "    </tr>\n",
       "    <tr>\n",
       "      <th>VRDeck</th>\n",
       "      <td>6954.0</td>\n",
       "      <td>1.744598</td>\n",
       "      <td>2.743595</td>\n",
       "      <td>0.0</td>\n",
       "      <td>0.0</td>\n",
       "      <td>0.000000</td>\n",
       "      <td>3.682550</td>\n",
       "      <td>10.091377</td>\n",
       "    </tr>\n",
       "    <tr>\n",
       "      <th>IsAlone</th>\n",
       "      <td>6954.0</td>\n",
       "      <td>0.382856</td>\n",
       "      <td>0.344694</td>\n",
       "      <td>0.0</td>\n",
       "      <td>0.0</td>\n",
       "      <td>0.693147</td>\n",
       "      <td>0.693147</td>\n",
       "      <td>0.693147</td>\n",
       "    </tr>\n",
       "    <tr>\n",
       "      <th>Age_Type</th>\n",
       "      <td>6954.0</td>\n",
       "      <td>2.323267</td>\n",
       "      <td>1.563705</td>\n",
       "      <td>0.0</td>\n",
       "      <td>1.0</td>\n",
       "      <td>2.000000</td>\n",
       "      <td>4.000000</td>\n",
       "      <td>5.000000</td>\n",
       "    </tr>\n",
       "    <tr>\n",
       "      <th>NoSpending</th>\n",
       "      <td>6954.0</td>\n",
       "      <td>0.295240</td>\n",
       "      <td>0.342776</td>\n",
       "      <td>0.0</td>\n",
       "      <td>0.0</td>\n",
       "      <td>0.000000</td>\n",
       "      <td>0.693147</td>\n",
       "      <td>0.693147</td>\n",
       "    </tr>\n",
       "  </tbody>\n",
       "</table>\n",
       "</div>"
      ],
      "text/plain": [
       "               count      mean       std  min  25%       50%       75%  \\\n",
       "HomePlanet    6954.0  0.716710  0.862628  0.0  0.0  0.000000  1.000000   \n",
       "CryoSleep     6954.0  0.407104  0.541462  0.0  0.0  0.000000  1.000000   \n",
       "Destination   6954.0  1.508628  0.841877  0.0  1.0  2.000000  2.000000   \n",
       "VIP           6954.0  0.068162  0.330546  0.0  0.0  0.000000  0.000000   \n",
       "RoomService   6954.0  1.712792  2.709688  0.0  0.0  0.000000  3.637586   \n",
       "FoodCourt     6954.0  1.880444  2.921610  0.0  0.0  0.000000  3.988984   \n",
       "ShoppingMall  6954.0  1.580829  2.565356  0.0  0.0  0.000000  3.044522   \n",
       "Spa           6954.0  1.841251  2.775314  0.0  0.0  0.000000  4.056095   \n",
       "VRDeck        6954.0  1.744598  2.743595  0.0  0.0  0.000000  3.682550   \n",
       "IsAlone       6954.0  0.382856  0.344694  0.0  0.0  0.693147  0.693147   \n",
       "Age_Type      6954.0  2.323267  1.563705  0.0  1.0  2.000000  4.000000   \n",
       "NoSpending    6954.0  0.295240  0.342776  0.0  0.0  0.000000  0.693147   \n",
       "\n",
       "                    max  \n",
       "HomePlanet     3.000000  \n",
       "CryoSleep      2.000000  \n",
       "Destination    3.000000  \n",
       "VIP            2.000000  \n",
       "RoomService    9.569971  \n",
       "FoodCourt     10.302733  \n",
       "ShoppingMall  10.064458  \n",
       "Spa           10.017218  \n",
       "VRDeck        10.091377  \n",
       "IsAlone        0.693147  \n",
       "Age_Type       5.000000  \n",
       "NoSpending     0.693147  "
      ]
     },
     "execution_count": 16,
     "metadata": {},
     "output_type": "execute_result"
    }
   ],
   "source": [
    "X_train2.describe().T"
   ]
  },
  {
   "cell_type": "markdown",
   "id": "10d40ede",
   "metadata": {
    "papermill": {
     "duration": 0.030957,
     "end_time": "2023-09-05T19:37:45.747470",
     "exception": false,
     "start_time": "2023-09-05T19:37:45.716513",
     "status": "completed"
    },
    "tags": []
   },
   "source": [
    "## b. Model training\n",
    "I will try quite a lot of model and then I will finetune the most promising"
   ]
  },
  {
   "cell_type": "markdown",
   "id": "e46f50d8",
   "metadata": {
    "papermill": {
     "duration": 0.030808,
     "end_time": "2023-09-05T19:37:45.809427",
     "exception": false,
     "start_time": "2023-09-05T19:37:45.778619",
     "status": "completed"
    },
    "tags": []
   },
   "source": [
    "<a id=\"section-three-a\"></a>\n",
    "# 3a. Lazy Predict Insights"
   ]
  },
  {
   "cell_type": "code",
   "execution_count": 17,
   "id": "681d8d71",
   "metadata": {
    "execution": {
     "iopub.execute_input": "2023-09-05T19:37:45.872988Z",
     "iopub.status.busy": "2023-09-05T19:37:45.872564Z",
     "iopub.status.idle": "2023-09-05T19:38:01.399925Z",
     "shell.execute_reply": "2023-09-05T19:38:01.398279Z"
    },
    "papermill": {
     "duration": 15.562932,
     "end_time": "2023-09-05T19:38:01.402997",
     "exception": false,
     "start_time": "2023-09-05T19:37:45.840065",
     "status": "completed"
    },
    "tags": []
   },
   "outputs": [
    {
     "name": "stdout",
     "output_type": "stream",
     "text": [
      "Collecting lazypredict\r\n",
      "  Downloading lazypredict-0.2.12-py2.py3-none-any.whl (12 kB)\r\n",
      "Requirement already satisfied: click in /opt/conda/lib/python3.10/site-packages (from lazypredict) (8.1.3)\r\n",
      "Requirement already satisfied: scikit-learn in /opt/conda/lib/python3.10/site-packages (from lazypredict) (1.2.2)\r\n",
      "Requirement already satisfied: pandas in /opt/conda/lib/python3.10/site-packages (from lazypredict) (1.5.3)\r\n",
      "Requirement already satisfied: tqdm in /opt/conda/lib/python3.10/site-packages (from lazypredict) (4.65.0)\r\n",
      "Requirement already satisfied: joblib in /opt/conda/lib/python3.10/site-packages (from lazypredict) (1.2.0)\r\n",
      "Requirement already satisfied: lightgbm in /opt/conda/lib/python3.10/site-packages (from lazypredict) (3.3.2)\r\n",
      "Requirement already satisfied: xgboost in /opt/conda/lib/python3.10/site-packages (from lazypredict) (1.7.6)\r\n",
      "Requirement already satisfied: wheel in /opt/conda/lib/python3.10/site-packages (from lightgbm->lazypredict) (0.40.0)\r\n",
      "Requirement already satisfied: numpy in /opt/conda/lib/python3.10/site-packages (from lightgbm->lazypredict) (1.23.5)\r\n",
      "Requirement already satisfied: scipy in /opt/conda/lib/python3.10/site-packages (from lightgbm->lazypredict) (1.11.1)\r\n",
      "Requirement already satisfied: threadpoolctl>=2.0.0 in /opt/conda/lib/python3.10/site-packages (from scikit-learn->lazypredict) (3.1.0)\r\n",
      "Requirement already satisfied: python-dateutil>=2.8.1 in /opt/conda/lib/python3.10/site-packages (from pandas->lazypredict) (2.8.2)\r\n",
      "Requirement already satisfied: pytz>=2020.1 in /opt/conda/lib/python3.10/site-packages (from pandas->lazypredict) (2023.3)\r\n",
      "Requirement already satisfied: six>=1.5 in /opt/conda/lib/python3.10/site-packages (from python-dateutil>=2.8.1->pandas->lazypredict) (1.16.0)\r\n",
      "Installing collected packages: lazypredict\r\n",
      "Successfully installed lazypredict-0.2.12\r\n",
      "Note: you may need to restart the kernel to use updated packages.\n"
     ]
    }
   ],
   "source": [
    "pip install lazypredict"
   ]
  },
  {
   "cell_type": "code",
   "execution_count": 18,
   "id": "4f0ce091",
   "metadata": {
    "execution": {
     "iopub.execute_input": "2023-09-05T19:38:01.468386Z",
     "iopub.status.busy": "2023-09-05T19:38:01.467942Z",
     "iopub.status.idle": "2023-09-05T19:38:26.676294Z",
     "shell.execute_reply": "2023-09-05T19:38:26.675069Z"
    },
    "papermill": {
     "duration": 25.244818,
     "end_time": "2023-09-05T19:38:26.679592",
     "exception": false,
     "start_time": "2023-09-05T19:38:01.434774",
     "status": "completed"
    },
    "tags": []
   },
   "outputs": [
    {
     "name": "stderr",
     "output_type": "stream",
     "text": [
      "100%|██████████| 29/29 [00:21<00:00,  1.34it/s]"
     ]
    },
    {
     "name": "stdout",
     "output_type": "stream",
     "text": [
      "                               Accuracy  Balanced Accuracy  ROC AUC  F1 Score  \\\n",
      "Model                                                                           \n",
      "SVC                                0.79               0.79     0.79      0.79   \n",
      "NuSVC                              0.78               0.79     0.79      0.78   \n",
      "XGBClassifier                      0.78               0.78     0.78      0.78   \n",
      "LGBMClassifier                     0.78               0.78     0.78      0.78   \n",
      "RandomForestClassifier             0.78               0.78     0.78      0.78   \n",
      "AdaBoostClassifier                 0.78               0.78     0.78      0.78   \n",
      "BaggingClassifier                  0.77               0.77     0.77      0.77   \n",
      "ExtraTreesClassifier               0.77               0.77     0.77      0.77   \n",
      "LinearSVC                          0.77               0.77     0.77      0.77   \n",
      "QuadraticDiscriminantAnalysis      0.77               0.77     0.77      0.77   \n",
      "RidgeClassifier                    0.77               0.77     0.77      0.77   \n",
      "LinearDiscriminantAnalysis         0.77               0.77     0.77      0.77   \n",
      "RidgeClassifierCV                  0.77               0.77     0.77      0.77   \n",
      "LogisticRegression                 0.77               0.77     0.77      0.77   \n",
      "CalibratedClassifierCV             0.76               0.76     0.76      0.76   \n",
      "SGDClassifier                      0.75               0.75     0.75      0.75   \n",
      "GaussianNB                         0.75               0.75     0.75      0.75   \n",
      "KNeighborsClassifier               0.75               0.75     0.75      0.75   \n",
      "BernoulliNB                        0.75               0.74     0.74      0.74   \n",
      "NearestCentroid                    0.74               0.74     0.74      0.74   \n",
      "ExtraTreeClassifier                0.72               0.73     0.73      0.72   \n",
      "LabelSpreading                     0.72               0.72     0.72      0.72   \n",
      "DecisionTreeClassifier             0.72               0.72     0.72      0.72   \n",
      "LabelPropagation                   0.72               0.72     0.72      0.72   \n",
      "Perceptron                         0.67               0.67     0.67      0.65   \n",
      "PassiveAggressiveClassifier        0.52               0.52     0.52      0.52   \n",
      "DummyClassifier                    0.49               0.50     0.50      0.32   \n",
      "\n",
      "                               Time Taken  \n",
      "Model                                      \n",
      "SVC                                  2.14  \n",
      "NuSVC                                2.66  \n",
      "XGBClassifier                        0.87  \n",
      "LGBMClassifier                       0.76  \n",
      "RandomForestClassifier               1.04  \n",
      "AdaBoostClassifier                   0.39  \n",
      "BaggingClassifier                    0.24  \n",
      "ExtraTreesClassifier                 0.90  \n",
      "LinearSVC                            0.70  \n",
      "QuadraticDiscriminantAnalysis        0.13  \n",
      "RidgeClassifier                      0.10  \n",
      "LinearDiscriminantAnalysis           0.18  \n",
      "RidgeClassifierCV                    0.22  \n",
      "LogisticRegression                   0.14  \n",
      "CalibratedClassifierCV               2.88  \n",
      "SGDClassifier                        0.15  \n",
      "GaussianNB                           0.03  \n",
      "KNeighborsClassifier                 0.19  \n",
      "BernoulliNB                          0.03  \n",
      "NearestCentroid                      0.09  \n",
      "ExtraTreeClassifier                  0.03  \n",
      "LabelSpreading                       4.47  \n",
      "DecisionTreeClassifier               0.08  \n",
      "LabelPropagation                     2.72  \n",
      "Perceptron                           0.14  \n",
      "PassiveAggressiveClassifier          0.08  \n",
      "DummyClassifier                      0.02  \n"
     ]
    },
    {
     "name": "stderr",
     "output_type": "stream",
     "text": [
      "\n"
     ]
    }
   ],
   "source": [
    "from sklearn.model_selection import train_test_split\n",
    "from lazypredict.Supervised import LazyClassifier\n",
    "\n",
    "lc = LazyClassifier()\n",
    "models, predictions = lc.fit(X_train2, X_test2, y_train2, y_test2)\n",
    "print(models)"
   ]
  },
  {
   "cell_type": "code",
   "execution_count": 19,
   "id": "b648c042",
   "metadata": {
    "execution": {
     "iopub.execute_input": "2023-09-05T19:38:26.751149Z",
     "iopub.status.busy": "2023-09-05T19:38:26.750705Z",
     "iopub.status.idle": "2023-09-05T19:38:26.758044Z",
     "shell.execute_reply": "2023-09-05T19:38:26.756799Z"
    },
    "papermill": {
     "duration": 0.046428,
     "end_time": "2023-09-05T19:38:26.760628",
     "exception": false,
     "start_time": "2023-09-05T19:38:26.714200",
     "status": "completed"
    },
    "tags": []
   },
   "outputs": [],
   "source": [
    "def test_ml(model, **kwarg):\n",
    "    model = model(**kwarg).fit(X_train2, y_train2)\n",
    "    acc_train = model.score(X_train2, y_train2)\n",
    "    acc_test = model.score(X_test2, y_test2)\n",
    "    print(f'{model} training accuracy:',acc_train.round(4))\n",
    "    print(f'{model} training accuracy:', acc_test.round(4))\n",
    "    predictions = model.predict(X_test)\n",
    "    return model, predictions, acc_train, acc_test"
   ]
  },
  {
   "cell_type": "markdown",
   "id": "6a5096c2",
   "metadata": {
    "papermill": {
     "duration": 0.034086,
     "end_time": "2023-09-05T19:38:26.829114",
     "exception": false,
     "start_time": "2023-09-05T19:38:26.795028",
     "status": "completed"
    },
    "tags": []
   },
   "source": [
    "### Linear Regression"
   ]
  },
  {
   "cell_type": "code",
   "execution_count": 20,
   "id": "ee3684ef",
   "metadata": {
    "execution": {
     "iopub.execute_input": "2023-09-05T19:38:26.901200Z",
     "iopub.status.busy": "2023-09-05T19:38:26.900799Z",
     "iopub.status.idle": "2023-09-05T19:38:27.056338Z",
     "shell.execute_reply": "2023-09-05T19:38:27.054710Z"
    },
    "papermill": {
     "duration": 0.19513,
     "end_time": "2023-09-05T19:38:27.059002",
     "exception": false,
     "start_time": "2023-09-05T19:38:26.863872",
     "status": "completed"
    },
    "tags": []
   },
   "outputs": [
    {
     "name": "stdout",
     "output_type": "stream",
     "text": [
      "LinearRegression() training accuracy: 0.3304\n",
      "LinearRegression() training accuracy: 0.3266\n"
     ]
    }
   ],
   "source": [
    "from sklearn.linear_model import LinearRegression\n",
    "model, predictions, acc_train, acc_test = test_ml(LinearRegression)"
   ]
  },
  {
   "cell_type": "code",
   "execution_count": 21,
   "id": "2583e8c0",
   "metadata": {
    "execution": {
     "iopub.execute_input": "2023-09-05T19:38:27.132566Z",
     "iopub.status.busy": "2023-09-05T19:38:27.132153Z",
     "iopub.status.idle": "2023-09-05T19:38:27.142834Z",
     "shell.execute_reply": "2023-09-05T19:38:27.141458Z"
    },
    "papermill": {
     "duration": 0.051448,
     "end_time": "2023-09-05T19:38:27.146552",
     "exception": false,
     "start_time": "2023-09-05T19:38:27.095104",
     "status": "completed"
    },
    "tags": []
   },
   "outputs": [
    {
     "name": "stdout",
     "output_type": "stream",
     "text": [
      "                 0\n",
      "NoSpending    0.35\n",
      "CryoSleep     0.08\n",
      "HomePlanet    0.07\n",
      "FoodCourt     0.04\n",
      "ShoppingMall  0.02\n",
      "Age_Type      0.00\n",
      "VIP          -0.01\n",
      "IsAlone      -0.01\n",
      "Spa          -0.03\n",
      "VRDeck       -0.03\n",
      "RoomService  -0.04\n",
      "Destination  -0.04\n"
     ]
    }
   ],
   "source": [
    "feat_importance = pd.DataFrame(model.coef_, index=model.feature_names_in_)\n",
    "print(feat_importance.sort_values(by=[0], ascending=False))"
   ]
  },
  {
   "cell_type": "markdown",
   "id": "d20ab9d6",
   "metadata": {
    "papermill": {
     "duration": 0.03514,
     "end_time": "2023-09-05T19:38:27.219307",
     "exception": false,
     "start_time": "2023-09-05T19:38:27.184167",
     "status": "completed"
    },
    "tags": []
   },
   "source": [
    "### Logistic Regression"
   ]
  },
  {
   "cell_type": "code",
   "execution_count": 22,
   "id": "07dbaa95",
   "metadata": {
    "execution": {
     "iopub.execute_input": "2023-09-05T19:38:27.295388Z",
     "iopub.status.busy": "2023-09-05T19:38:27.294972Z",
     "iopub.status.idle": "2023-09-05T19:38:27.397729Z",
     "shell.execute_reply": "2023-09-05T19:38:27.395754Z"
    },
    "papermill": {
     "duration": 0.145526,
     "end_time": "2023-09-05T19:38:27.400761",
     "exception": false,
     "start_time": "2023-09-05T19:38:27.255235",
     "status": "completed"
    },
    "tags": []
   },
   "outputs": [
    {
     "name": "stdout",
     "output_type": "stream",
     "text": [
      "LogisticRegression(C=0.7, solver='liblinear') training accuracy: 0.7708\n",
      "LogisticRegression(C=0.7, solver='liblinear') training accuracy: 0.7648\n"
     ]
    }
   ],
   "source": [
    "from sklearn.linear_model import LogisticRegression\n",
    "model, predictions, acc_train, acc_test = test_ml(LogisticRegression, C=0.7, solver='liblinear', penalty='l2')"
   ]
  },
  {
   "cell_type": "markdown",
   "id": "51e439a7",
   "metadata": {
    "papermill": {
     "duration": 0.036028,
     "end_time": "2023-09-05T19:38:27.472086",
     "exception": false,
     "start_time": "2023-09-05T19:38:27.436058",
     "status": "completed"
    },
    "tags": []
   },
   "source": [
    "### Gradient Boosting Regression"
   ]
  },
  {
   "cell_type": "code",
   "execution_count": 23,
   "id": "afda440a",
   "metadata": {
    "execution": {
     "iopub.execute_input": "2023-09-05T19:38:27.546919Z",
     "iopub.status.busy": "2023-09-05T19:38:27.546484Z",
     "iopub.status.idle": "2023-09-05T19:38:28.293813Z",
     "shell.execute_reply": "2023-09-05T19:38:28.292413Z"
    },
    "papermill": {
     "duration": 0.786602,
     "end_time": "2023-09-05T19:38:28.296285",
     "exception": false,
     "start_time": "2023-09-05T19:38:27.509683",
     "status": "completed"
    },
    "tags": []
   },
   "outputs": [
    {
     "name": "stdout",
     "output_type": "stream",
     "text": [
      "GradientBoostingRegressor() training accuracy: 0.4681\n",
      "GradientBoostingRegressor() training accuracy: 0.4095\n"
     ]
    }
   ],
   "source": [
    "from sklearn.ensemble import GradientBoostingRegressor\n",
    "model, predictions, acc_train, acc_test = test_ml(GradientBoostingRegressor)"
   ]
  },
  {
   "cell_type": "markdown",
   "id": "f1eb092a",
   "metadata": {
    "papermill": {
     "duration": 0.036316,
     "end_time": "2023-09-05T19:38:28.368619",
     "exception": false,
     "start_time": "2023-09-05T19:38:28.332303",
     "status": "completed"
    },
    "tags": []
   },
   "source": [
    "### Elastic Net Regression"
   ]
  },
  {
   "cell_type": "code",
   "execution_count": 24,
   "id": "ec4ee6ca",
   "metadata": {
    "execution": {
     "iopub.execute_input": "2023-09-05T19:38:28.441813Z",
     "iopub.status.busy": "2023-09-05T19:38:28.441345Z",
     "iopub.status.idle": "2023-09-05T19:38:28.570076Z",
     "shell.execute_reply": "2023-09-05T19:38:28.569116Z"
    },
    "papermill": {
     "duration": 0.167972,
     "end_time": "2023-09-05T19:38:28.572580",
     "exception": false,
     "start_time": "2023-09-05T19:38:28.404608",
     "status": "completed"
    },
    "tags": []
   },
   "outputs": [
    {
     "name": "stdout",
     "output_type": "stream",
     "text": [
      "ElasticNet() training accuracy: 0.0\n",
      "ElasticNet() training accuracy: -0.001\n"
     ]
    }
   ],
   "source": [
    "from sklearn.linear_model import ElasticNet\n",
    "model, predictions, acc_train, acc_test = test_ml(ElasticNet)"
   ]
  },
  {
   "cell_type": "markdown",
   "id": "620665a1",
   "metadata": {
    "papermill": {
     "duration": 0.03592,
     "end_time": "2023-09-05T19:38:28.644707",
     "exception": false,
     "start_time": "2023-09-05T19:38:28.608787",
     "status": "completed"
    },
    "tags": []
   },
   "source": [
    "### Gradient Descent Regression"
   ]
  },
  {
   "cell_type": "code",
   "execution_count": 25,
   "id": "1bd60038",
   "metadata": {
    "execution": {
     "iopub.execute_input": "2023-09-05T19:38:28.718677Z",
     "iopub.status.busy": "2023-09-05T19:38:28.718207Z",
     "iopub.status.idle": "2023-09-05T19:38:28.785833Z",
     "shell.execute_reply": "2023-09-05T19:38:28.783964Z"
    },
    "papermill": {
     "duration": 0.107888,
     "end_time": "2023-09-05T19:38:28.788436",
     "exception": false,
     "start_time": "2023-09-05T19:38:28.680548",
     "status": "completed"
    },
    "tags": []
   },
   "outputs": [
    {
     "name": "stdout",
     "output_type": "stream",
     "text": [
      "SGDRegressor() training accuracy: 0.3108\n",
      "SGDRegressor() training accuracy: 0.2978\n"
     ]
    }
   ],
   "source": [
    "from sklearn.linear_model import SGDRegressor\n",
    "model, predictions, acc_train, acc_test = test_ml(SGDRegressor)"
   ]
  },
  {
   "cell_type": "markdown",
   "id": "87fba2ea",
   "metadata": {
    "papermill": {
     "duration": 0.03693,
     "end_time": "2023-09-05T19:38:28.862775",
     "exception": false,
     "start_time": "2023-09-05T19:38:28.825845",
     "status": "completed"
    },
    "tags": []
   },
   "source": [
    "### Support Vector Machine"
   ]
  },
  {
   "cell_type": "code",
   "execution_count": 26,
   "id": "dd87c8fd",
   "metadata": {
    "execution": {
     "iopub.execute_input": "2023-09-05T19:38:28.938136Z",
     "iopub.status.busy": "2023-09-05T19:38:28.937704Z",
     "iopub.status.idle": "2023-09-05T19:38:33.532437Z",
     "shell.execute_reply": "2023-09-05T19:38:33.531192Z"
    },
    "papermill": {
     "duration": 4.635398,
     "end_time": "2023-09-05T19:38:33.535471",
     "exception": false,
     "start_time": "2023-09-05T19:38:28.900073",
     "status": "completed"
    },
    "tags": []
   },
   "outputs": [
    {
     "name": "stdout",
     "output_type": "stream",
     "text": [
      "SVR() training accuracy: 0.3712\n",
      "SVR() training accuracy: 0.3342\n"
     ]
    }
   ],
   "source": [
    "from sklearn.svm import SVR\n",
    "model, predictions, acc_train, acc_test = test_ml(SVR)"
   ]
  },
  {
   "cell_type": "markdown",
   "id": "2106e19b",
   "metadata": {
    "papermill": {
     "duration": 0.035034,
     "end_time": "2023-09-05T19:38:33.607764",
     "exception": false,
     "start_time": "2023-09-05T19:38:33.572730",
     "status": "completed"
    },
    "tags": []
   },
   "source": [
    "### Bayesian Ridge Regression"
   ]
  },
  {
   "cell_type": "code",
   "execution_count": 27,
   "id": "90446ab9",
   "metadata": {
    "execution": {
     "iopub.execute_input": "2023-09-05T19:38:33.680593Z",
     "iopub.status.busy": "2023-09-05T19:38:33.680136Z",
     "iopub.status.idle": "2023-09-05T19:38:33.842561Z",
     "shell.execute_reply": "2023-09-05T19:38:33.838583Z"
    },
    "papermill": {
     "duration": 0.203347,
     "end_time": "2023-09-05T19:38:33.846651",
     "exception": false,
     "start_time": "2023-09-05T19:38:33.643304",
     "status": "completed"
    },
    "tags": []
   },
   "outputs": [
    {
     "name": "stdout",
     "output_type": "stream",
     "text": [
      "BayesianRidge() training accuracy: 0.3303\n",
      "BayesianRidge() training accuracy: 0.3256\n"
     ]
    }
   ],
   "source": [
    "from sklearn.linear_model import BayesianRidge\n",
    "model, predictions, acc_train, acc_test = test_ml(BayesianRidge)\n"
   ]
  },
  {
   "cell_type": "code",
   "execution_count": 28,
   "id": "d16d5761",
   "metadata": {
    "execution": {
     "iopub.execute_input": "2023-09-05T19:38:33.919584Z",
     "iopub.status.busy": "2023-09-05T19:38:33.919153Z",
     "iopub.status.idle": "2023-09-05T19:38:34.603267Z",
     "shell.execute_reply": "2023-09-05T19:38:34.601746Z"
    },
    "papermill": {
     "duration": 0.72343,
     "end_time": "2023-09-05T19:38:34.605749",
     "exception": false,
     "start_time": "2023-09-05T19:38:33.882319",
     "status": "completed"
    },
    "tags": []
   },
   "outputs": [
    {
     "name": "stdout",
     "output_type": "stream",
     "text": [
      "LGBMRegressor() training accuracy: 0.5755\n",
      "LGBMRegressor() training accuracy: 0.3871\n"
     ]
    }
   ],
   "source": [
    "from lightgbm import LGBMRegressor\n",
    "model, predictions, acc_train, acc_test = test_ml(LGBMRegressor)\n"
   ]
  },
  {
   "cell_type": "markdown",
   "id": "ea8576a8",
   "metadata": {
    "papermill": {
     "duration": 0.035373,
     "end_time": "2023-09-05T19:38:34.676849",
     "exception": false,
     "start_time": "2023-09-05T19:38:34.641476",
     "status": "completed"
    },
    "tags": []
   },
   "source": [
    "## Classification Models"
   ]
  },
  {
   "cell_type": "markdown",
   "id": "26a3b818",
   "metadata": {
    "papermill": {
     "duration": 0.03544,
     "end_time": "2023-09-05T19:38:34.748290",
     "exception": false,
     "start_time": "2023-09-05T19:38:34.712850",
     "status": "completed"
    },
    "tags": []
   },
   "source": [
    "### K nearest Neighbors"
   ]
  },
  {
   "cell_type": "code",
   "execution_count": 29,
   "id": "2e3812de",
   "metadata": {
    "execution": {
     "iopub.execute_input": "2023-09-05T19:38:34.823310Z",
     "iopub.status.busy": "2023-09-05T19:38:34.822883Z",
     "iopub.status.idle": "2023-09-05T19:38:35.891136Z",
     "shell.execute_reply": "2023-09-05T19:38:35.889819Z"
    },
    "papermill": {
     "duration": 1.108764,
     "end_time": "2023-09-05T19:38:35.893976",
     "exception": false,
     "start_time": "2023-09-05T19:38:34.785212",
     "status": "completed"
    },
    "tags": []
   },
   "outputs": [
    {
     "name": "stdout",
     "output_type": "stream",
     "text": [
      "KNeighborsClassifier() training accuracy: 0.8158\n",
      "KNeighborsClassifier() training accuracy: 0.7568\n"
     ]
    }
   ],
   "source": [
    "from sklearn.neighbors import KNeighborsClassifier\n",
    "model, predictions, acc_train, acc_test = test_ml(KNeighborsClassifier, n_neighbors=5)"
   ]
  },
  {
   "cell_type": "markdown",
   "id": "bb0c558e",
   "metadata": {
    "papermill": {
     "duration": 0.035699,
     "end_time": "2023-09-05T19:38:35.965545",
     "exception": false,
     "start_time": "2023-09-05T19:38:35.929846",
     "status": "completed"
    },
    "tags": []
   },
   "source": [
    "### SVC"
   ]
  },
  {
   "cell_type": "code",
   "execution_count": 30,
   "id": "b95546d0",
   "metadata": {
    "execution": {
     "iopub.execute_input": "2023-09-05T19:38:36.039840Z",
     "iopub.status.busy": "2023-09-05T19:38:36.039278Z",
     "iopub.status.idle": "2023-09-05T19:38:45.099036Z",
     "shell.execute_reply": "2023-09-05T19:38:45.097905Z"
    },
    "papermill": {
     "duration": 9.100845,
     "end_time": "2023-09-05T19:38:45.102215",
     "exception": false,
     "start_time": "2023-09-05T19:38:36.001370",
     "status": "completed"
    },
    "tags": []
   },
   "outputs": [
    {
     "name": "stdout",
     "output_type": "stream",
     "text": [
      "SVC(C=100, gamma=0.01) training accuracy: 0.8106\n",
      "SVC(C=100, gamma=0.01) training accuracy: 0.7913\n"
     ]
    }
   ],
   "source": [
    "from sklearn.svm import SVC\n",
    "model, predictions, acc_train, acc_test = test_ml(SVC, kernel='rbf', C=100, gamma=0.01)"
   ]
  },
  {
   "cell_type": "markdown",
   "id": "5809cf50",
   "metadata": {
    "papermill": {
     "duration": 0.036011,
     "end_time": "2023-09-05T19:38:45.174317",
     "exception": false,
     "start_time": "2023-09-05T19:38:45.138306",
     "status": "completed"
    },
    "tags": []
   },
   "source": [
    "### NuSVC                              "
   ]
  },
  {
   "cell_type": "code",
   "execution_count": 31,
   "id": "a8c5529f",
   "metadata": {
    "execution": {
     "iopub.execute_input": "2023-09-05T19:38:45.248993Z",
     "iopub.status.busy": "2023-09-05T19:38:45.248556Z",
     "iopub.status.idle": "2023-09-05T19:38:49.917136Z",
     "shell.execute_reply": "2023-09-05T19:38:49.916041Z"
    },
    "papermill": {
     "duration": 4.709321,
     "end_time": "2023-09-05T19:38:49.919824",
     "exception": false,
     "start_time": "2023-09-05T19:38:45.210503",
     "status": "completed"
    },
    "tags": []
   },
   "outputs": [
    {
     "name": "stdout",
     "output_type": "stream",
     "text": [
      "NuSVC() training accuracy: 0.7867\n",
      "NuSVC() training accuracy: 0.7941\n"
     ]
    }
   ],
   "source": [
    "from sklearn.svm import NuSVC\n",
    "model, predictions, acc_train, acc_test = test_ml(NuSVC, gamma='scale')"
   ]
  },
  {
   "cell_type": "markdown",
   "id": "dc9a1f9b",
   "metadata": {
    "execution": {
     "iopub.execute_input": "2023-08-30T02:30:59.906266Z",
     "iopub.status.busy": "2023-08-30T02:30:59.905142Z",
     "iopub.status.idle": "2023-08-30T02:30:59.910526Z",
     "shell.execute_reply": "2023-08-30T02:30:59.909694Z",
     "shell.execute_reply.started": "2023-08-30T02:30:59.906225Z"
    },
    "papermill": {
     "duration": 0.035896,
     "end_time": "2023-09-05T19:38:49.991891",
     "exception": false,
     "start_time": "2023-09-05T19:38:49.955995",
     "status": "completed"
    },
    "tags": []
   },
   "source": [
    "### GaussianNB"
   ]
  },
  {
   "cell_type": "code",
   "execution_count": 32,
   "id": "e796094f",
   "metadata": {
    "execution": {
     "iopub.execute_input": "2023-09-05T19:38:50.079101Z",
     "iopub.status.busy": "2023-09-05T19:38:50.078703Z",
     "iopub.status.idle": "2023-09-05T19:38:50.104374Z",
     "shell.execute_reply": "2023-09-05T19:38:50.102974Z"
    },
    "papermill": {
     "duration": 0.073681,
     "end_time": "2023-09-05T19:38:50.107185",
     "exception": false,
     "start_time": "2023-09-05T19:38:50.033504",
     "status": "completed"
    },
    "tags": []
   },
   "outputs": [
    {
     "name": "stdout",
     "output_type": "stream",
     "text": [
      "GaussianNB() training accuracy: 0.736\n",
      "GaussianNB() training accuracy: 0.7476\n"
     ]
    }
   ],
   "source": [
    "from sklearn.naive_bayes import GaussianNB\n",
    "model, predictions, acc_train, acc_test = test_ml(GaussianNB)"
   ]
  },
  {
   "cell_type": "markdown",
   "id": "2b871b65",
   "metadata": {
    "papermill": {
     "duration": 0.039824,
     "end_time": "2023-09-05T19:38:50.186300",
     "exception": false,
     "start_time": "2023-09-05T19:38:50.146476",
     "status": "completed"
    },
    "tags": []
   },
   "source": [
    "### Decision Tree"
   ]
  },
  {
   "cell_type": "code",
   "execution_count": 33,
   "id": "d4dc295e",
   "metadata": {
    "execution": {
     "iopub.execute_input": "2023-09-05T19:38:50.273388Z",
     "iopub.status.busy": "2023-09-05T19:38:50.272851Z",
     "iopub.status.idle": "2023-09-05T19:38:50.336997Z",
     "shell.execute_reply": "2023-09-05T19:38:50.335530Z"
    },
    "papermill": {
     "duration": 0.108313,
     "end_time": "2023-09-05T19:38:50.339798",
     "exception": false,
     "start_time": "2023-09-05T19:38:50.231485",
     "status": "completed"
    },
    "tags": []
   },
   "outputs": [
    {
     "name": "stdout",
     "output_type": "stream",
     "text": [
      "DecisionTreeClassifier() training accuracy: 0.9223\n",
      "DecisionTreeClassifier() training accuracy: 0.7217\n"
     ]
    }
   ],
   "source": [
    "from sklearn.tree import DecisionTreeClassifier\n",
    "model, predictions, acc_train, acc_test = test_ml(DecisionTreeClassifier)"
   ]
  },
  {
   "cell_type": "markdown",
   "id": "6c6aae9b",
   "metadata": {
    "papermill": {
     "duration": 0.037008,
     "end_time": "2023-09-05T19:38:50.419779",
     "exception": false,
     "start_time": "2023-09-05T19:38:50.382771",
     "status": "completed"
    },
    "tags": []
   },
   "source": [
    "### Random Forest"
   ]
  },
  {
   "cell_type": "code",
   "execution_count": 34,
   "id": "d75d2f0d",
   "metadata": {
    "execution": {
     "iopub.execute_input": "2023-09-05T19:38:50.507846Z",
     "iopub.status.busy": "2023-09-05T19:38:50.507316Z",
     "iopub.status.idle": "2023-09-05T19:38:51.919825Z",
     "shell.execute_reply": "2023-09-05T19:38:51.918533Z"
    },
    "papermill": {
     "duration": 1.462272,
     "end_time": "2023-09-05T19:38:51.922594",
     "exception": false,
     "start_time": "2023-09-05T19:38:50.460322",
     "status": "completed"
    },
    "tags": []
   },
   "outputs": [
    {
     "name": "stdout",
     "output_type": "stream",
     "text": [
      "RandomForestClassifier(criterion='log_loss') training accuracy: 0.9223\n",
      "RandomForestClassifier(criterion='log_loss') training accuracy: 0.7838\n"
     ]
    }
   ],
   "source": [
    "from sklearn.ensemble import RandomForestClassifier\n",
    "model, predictions, acc_train, acc_test = test_ml(RandomForestClassifier, criterion='log_loss')"
   ]
  },
  {
   "cell_type": "markdown",
   "id": "8a911f88",
   "metadata": {
    "papermill": {
     "duration": 0.036752,
     "end_time": "2023-09-05T19:38:51.996062",
     "exception": false,
     "start_time": "2023-09-05T19:38:51.959310",
     "status": "completed"
    },
    "tags": []
   },
   "source": [
    "### AdaBoostClassifier"
   ]
  },
  {
   "cell_type": "code",
   "execution_count": 35,
   "id": "11faf345",
   "metadata": {
    "execution": {
     "iopub.execute_input": "2023-09-05T19:38:52.073140Z",
     "iopub.status.busy": "2023-09-05T19:38:52.072731Z",
     "iopub.status.idle": "2023-09-05T19:38:52.560053Z",
     "shell.execute_reply": "2023-09-05T19:38:52.558417Z"
    },
    "papermill": {
     "duration": 0.529667,
     "end_time": "2023-09-05T19:38:52.562699",
     "exception": false,
     "start_time": "2023-09-05T19:38:52.033032",
     "status": "completed"
    },
    "tags": []
   },
   "outputs": [
    {
     "name": "stdout",
     "output_type": "stream",
     "text": [
      "AdaBoostClassifier() training accuracy: 0.7922\n",
      "AdaBoostClassifier() training accuracy: 0.7803\n"
     ]
    }
   ],
   "source": [
    "from sklearn.ensemble import AdaBoostClassifier\n",
    "model, predictions, acc_train, acc_test = test_ml(AdaBoostClassifier)"
   ]
  },
  {
   "cell_type": "markdown",
   "id": "c6b4b78b",
   "metadata": {
    "papermill": {
     "duration": 0.036841,
     "end_time": "2023-09-05T19:38:52.636323",
     "exception": false,
     "start_time": "2023-09-05T19:38:52.599482",
     "status": "completed"
    },
    "tags": []
   },
   "source": [
    "### QuadraticDiscriminantAnalysis"
   ]
  },
  {
   "cell_type": "code",
   "execution_count": 36,
   "id": "14f85967",
   "metadata": {
    "execution": {
     "iopub.execute_input": "2023-09-05T19:38:52.713025Z",
     "iopub.status.busy": "2023-09-05T19:38:52.712598Z",
     "iopub.status.idle": "2023-09-05T19:38:52.816083Z",
     "shell.execute_reply": "2023-09-05T19:38:52.814195Z"
    },
    "papermill": {
     "duration": 0.145213,
     "end_time": "2023-09-05T19:38:52.818953",
     "exception": false,
     "start_time": "2023-09-05T19:38:52.673740",
     "status": "completed"
    },
    "tags": []
   },
   "outputs": [
    {
     "name": "stdout",
     "output_type": "stream",
     "text": [
      "QuadraticDiscriminantAnalysis() training accuracy: 0.767\n",
      "QuadraticDiscriminantAnalysis() training accuracy: 0.7671\n"
     ]
    }
   ],
   "source": [
    "from sklearn.discriminant_analysis \\\n",
    "     import QuadraticDiscriminantAnalysis\n",
    "model, predictions, acc_train, acc_test = test_ml(QuadraticDiscriminantAnalysis)"
   ]
  },
  {
   "cell_type": "markdown",
   "id": "f361138a",
   "metadata": {
    "papermill": {
     "duration": 0.037088,
     "end_time": "2023-09-05T19:38:52.893946",
     "exception": false,
     "start_time": "2023-09-05T19:38:52.856858",
     "status": "completed"
    },
    "tags": []
   },
   "source": [
    "### MLPClassifier"
   ]
  },
  {
   "cell_type": "code",
   "execution_count": 37,
   "id": "8f892bc5",
   "metadata": {
    "execution": {
     "iopub.execute_input": "2023-09-05T19:38:52.970649Z",
     "iopub.status.busy": "2023-09-05T19:38:52.970245Z",
     "iopub.status.idle": "2023-09-05T19:38:56.971697Z",
     "shell.execute_reply": "2023-09-05T19:38:56.969832Z"
    },
    "papermill": {
     "duration": 4.043049,
     "end_time": "2023-09-05T19:38:56.974672",
     "exception": false,
     "start_time": "2023-09-05T19:38:52.931623",
     "status": "completed"
    },
    "tags": []
   },
   "outputs": [
    {
     "name": "stdout",
     "output_type": "stream",
     "text": [
      "MLPClassifier(alpha=100, max_iter=2000) training accuracy: 0.7544\n",
      "MLPClassifier(alpha=100, max_iter=2000) training accuracy: 0.7637\n"
     ]
    }
   ],
   "source": [
    "from sklearn.neural_network import MLPClassifier\n",
    "model, predictions, acc_train, acc_test = test_ml(MLPClassifier, alpha=100, max_iter=2000)"
   ]
  },
  {
   "cell_type": "markdown",
   "id": "1b9aba64",
   "metadata": {
    "papermill": {
     "duration": 0.037029,
     "end_time": "2023-09-05T19:38:57.049784",
     "exception": false,
     "start_time": "2023-09-05T19:38:57.012755",
     "status": "completed"
    },
    "tags": []
   },
   "source": [
    "### SGDClassifier"
   ]
  },
  {
   "cell_type": "code",
   "execution_count": 38,
   "id": "20fe443a",
   "metadata": {
    "execution": {
     "iopub.execute_input": "2023-09-05T19:38:57.127558Z",
     "iopub.status.busy": "2023-09-05T19:38:57.127111Z",
     "iopub.status.idle": "2023-09-05T19:38:57.259248Z",
     "shell.execute_reply": "2023-09-05T19:38:57.257421Z"
    },
    "papermill": {
     "duration": 0.174896,
     "end_time": "2023-09-05T19:38:57.263143",
     "exception": false,
     "start_time": "2023-09-05T19:38:57.088247",
     "status": "completed"
    },
    "tags": []
   },
   "outputs": [
    {
     "name": "stdout",
     "output_type": "stream",
     "text": [
      "SGDClassifier() training accuracy: 0.7647\n",
      "SGDClassifier() training accuracy: 0.7579\n"
     ]
    }
   ],
   "source": [
    "from sklearn.linear_model import SGDClassifier\n",
    "model, predictions, acc_train, acc_test = test_ml(SGDClassifier)"
   ]
  },
  {
   "cell_type": "markdown",
   "id": "a130406b",
   "metadata": {
    "papermill": {
     "duration": 0.040628,
     "end_time": "2023-09-05T19:38:57.364885",
     "exception": false,
     "start_time": "2023-09-05T19:38:57.324257",
     "status": "completed"
    },
    "tags": []
   },
   "source": [
    "<a id=\"section-four\"></a>\n",
    "# 4. Best Model and Cross Validation"
   ]
  },
  {
   "cell_type": "code",
   "execution_count": 39,
   "id": "25cb77e7",
   "metadata": {
    "execution": {
     "iopub.execute_input": "2023-09-05T19:38:57.442723Z",
     "iopub.status.busy": "2023-09-05T19:38:57.442260Z",
     "iopub.status.idle": "2023-09-05T19:38:57.448557Z",
     "shell.execute_reply": "2023-09-05T19:38:57.447672Z"
    },
    "papermill": {
     "duration": 0.04756,
     "end_time": "2023-09-05T19:38:57.450683",
     "exception": false,
     "start_time": "2023-09-05T19:38:57.403123",
     "status": "completed"
    },
    "tags": []
   },
   "outputs": [],
   "source": [
    "from sklearn.model_selection import cross_validate\n",
    "def cross_validation(model, X, y, cv=5, return_train_scorebool=True):\n",
    "    \"\"\"\n",
    "    this function performs 5 folds cross-validation\n",
    "    \"\"\"\n",
    "    scores = cross_validate(model=model,\n",
    "                            X=X,\n",
    "                            y=y,\n",
    "                            cv=cv,\n",
    "                            )\n",
    "    return scores"
   ]
  },
  {
   "cell_type": "code",
   "execution_count": 40,
   "id": "cc3b13fc",
   "metadata": {
    "execution": {
     "iopub.execute_input": "2023-09-05T19:38:57.530489Z",
     "iopub.status.busy": "2023-09-05T19:38:57.529838Z",
     "iopub.status.idle": "2023-09-05T19:38:58.050753Z",
     "shell.execute_reply": "2023-09-05T19:38:58.048672Z"
    },
    "papermill": {
     "duration": 0.563575,
     "end_time": "2023-09-05T19:38:58.053396",
     "exception": false,
     "start_time": "2023-09-05T19:38:57.489821",
     "status": "completed"
    },
    "tags": []
   },
   "outputs": [
    {
     "name": "stdout",
     "output_type": "stream",
     "text": [
      "[0.78360891 0.78073329 0.77929547 0.74982027 0.75539568]\n"
     ]
    }
   ],
   "source": [
    "model=LogisticRegression(C=0.7, solver='liblinear', penalty='l2')\n",
    "scores = cross_validate(model, X_train2, y_train2)\n",
    "print(scores['test_score'])"
   ]
  },
  {
   "cell_type": "code",
   "execution_count": 41,
   "id": "5057e48c",
   "metadata": {
    "execution": {
     "iopub.execute_input": "2023-09-05T19:38:58.134182Z",
     "iopub.status.busy": "2023-09-05T19:38:58.133801Z",
     "iopub.status.idle": "2023-09-05T19:38:58.858295Z",
     "shell.execute_reply": "2023-09-05T19:38:58.856946Z"
    },
    "papermill": {
     "duration": 0.768443,
     "end_time": "2023-09-05T19:38:58.860999",
     "exception": false,
     "start_time": "2023-09-05T19:38:58.092556",
     "status": "completed"
    },
    "tags": []
   },
   "outputs": [
    {
     "name": "stdout",
     "output_type": "stream",
     "text": [
      "[0.76724138 0.79454023 0.77442529 0.7887931  0.76115108 0.76978417\n",
      " 0.75395683 0.76115108 0.75539568 0.77410072]\n"
     ]
    }
   ],
   "source": [
    "model=KNeighborsClassifier(n_neighbors=7)\n",
    "scores = cross_validate(model, X_train2, y_train2, cv=10)\n",
    "print(scores['test_score'])"
   ]
  },
  {
   "cell_type": "code",
   "execution_count": 42,
   "id": "e0c8347d",
   "metadata": {
    "execution": {
     "iopub.execute_input": "2023-09-05T19:38:58.938326Z",
     "iopub.status.busy": "2023-09-05T19:38:58.937936Z",
     "iopub.status.idle": "2023-09-05T19:39:15.146641Z",
     "shell.execute_reply": "2023-09-05T19:39:15.145274Z"
    },
    "papermill": {
     "duration": 16.250356,
     "end_time": "2023-09-05T19:39:15.149096",
     "exception": false,
     "start_time": "2023-09-05T19:38:58.898740",
     "status": "completed"
    },
    "tags": []
   },
   "outputs": [
    {
     "name": "stdout",
     "output_type": "stream",
     "text": [
      "[0.80603448 0.80028736 0.78735632 0.80172414 0.78992806 0.77697842\n",
      " 0.76978417 0.78561151 0.76546763 0.78992806]\n"
     ]
    }
   ],
   "source": [
    "model=SVC(C=1, degree=0, gamma=0.1)\n",
    "scores = cross_validate(model, X_train2, y_train2, cv=10)\n",
    "print(scores['test_score'])"
   ]
  },
  {
   "cell_type": "code",
   "execution_count": 43,
   "id": "24043f37",
   "metadata": {
    "execution": {
     "iopub.execute_input": "2023-09-05T19:39:15.228236Z",
     "iopub.status.busy": "2023-09-05T19:39:15.227845Z",
     "iopub.status.idle": "2023-09-05T19:39:22.639994Z",
     "shell.execute_reply": "2023-09-05T19:39:22.638735Z"
    },
    "papermill": {
     "duration": 7.454643,
     "end_time": "2023-09-05T19:39:22.642404",
     "exception": false,
     "start_time": "2023-09-05T19:39:15.187761",
     "status": "completed"
    },
    "tags": []
   },
   "outputs": [
    {
     "name": "stdout",
     "output_type": "stream",
     "text": [
      "[0.8015816  0.78864127 0.78936017 0.76491733 0.77194245]\n"
     ]
    }
   ],
   "source": [
    "model=NuSVC(gamma='scale')\n",
    "scores = cross_validate(model, X_train2, y_train2)\n",
    "print(scores['test_score'])"
   ]
  },
  {
   "cell_type": "markdown",
   "id": "9bcb7951",
   "metadata": {
    "papermill": {
     "duration": 0.040003,
     "end_time": "2023-09-05T19:39:22.721313",
     "exception": false,
     "start_time": "2023-09-05T19:39:22.681310",
     "status": "completed"
    },
    "tags": []
   },
   "source": []
  },
  {
   "cell_type": "markdown",
   "id": "71b555d6",
   "metadata": {
    "papermill": {
     "duration": 0.037811,
     "end_time": "2023-09-05T19:39:22.797897",
     "exception": false,
     "start_time": "2023-09-05T19:39:22.760086",
     "status": "completed"
    },
    "tags": []
   },
   "source": [
    "<a id=\"section-five\"></a>\n",
    "# 5. Hyperparameters Tuning"
   ]
  },
  {
   "cell_type": "code",
   "execution_count": 44,
   "id": "b4e17b06",
   "metadata": {
    "execution": {
     "iopub.execute_input": "2023-09-05T19:39:22.876907Z",
     "iopub.status.busy": "2023-09-05T19:39:22.876455Z",
     "iopub.status.idle": "2023-09-05T20:58:02.768442Z",
     "shell.execute_reply": "2023-09-05T20:58:02.767028Z"
    },
    "papermill": {
     "duration": 4719.934385,
     "end_time": "2023-09-05T20:58:02.771077",
     "exception": false,
     "start_time": "2023-09-05T19:39:22.836692",
     "status": "completed"
    },
    "tags": []
   },
   "outputs": [
    {
     "name": "stdout",
     "output_type": "stream",
     "text": [
      "Fitting 3 folds for each of 50 candidates, totalling 150 fits\n",
      "[CV 1/3] END cache_size=200, class_weight=None, coef0=0.5, degree=3, gamma=scale, kernel=poly, nu=0.5, shrinking=True;, score=0.797 total time=   1.0s\n",
      "[CV 2/3] END cache_size=200, class_weight=None, coef0=0.5, degree=3, gamma=scale, kernel=poly, nu=0.5, shrinking=True;, score=0.791 total time=   0.9s\n",
      "[CV 3/3] END cache_size=200, class_weight=None, coef0=0.5, degree=3, gamma=scale, kernel=poly, nu=0.5, shrinking=True;, score=0.780 total time=   0.9s\n",
      "[CV 1/3] END cache_size=500, class_weight=None, coef0=0.1, degree=4, gamma=0.01, kernel=poly, nu=0.9, shrinking=True;, score=0.625 total time=   1.0s\n",
      "[CV 2/3] END cache_size=500, class_weight=None, coef0=0.1, degree=4, gamma=0.01, kernel=poly, nu=0.9, shrinking=True;, score=0.607 total time=   1.0s\n",
      "[CV 3/3] END cache_size=500, class_weight=None, coef0=0.1, degree=4, gamma=0.01, kernel=poly, nu=0.9, shrinking=True;, score=0.618 total time=   1.0s\n",
      "[CV 1/3] END cache_size=200, class_weight=None, coef0=0.0, degree=4, gamma=scale, kernel=poly, nu=0.5, shrinking=True;, score=0.795 total time=   1.2s\n",
      "[CV 2/3] END cache_size=200, class_weight=None, coef0=0.0, degree=4, gamma=scale, kernel=poly, nu=0.5, shrinking=True;, score=0.781 total time=   1.1s\n",
      "[CV 3/3] END cache_size=200, class_weight=None, coef0=0.0, degree=4, gamma=scale, kernel=poly, nu=0.5, shrinking=True;, score=0.772 total time=   1.0s\n",
      "[CV 1/3] END cache_size=500, class_weight=None, coef0=0.5, degree=2, gamma=0.001, kernel=rbf, nu=0.7, shrinking=True;, score=0.766 total time=   1.3s\n",
      "[CV 2/3] END cache_size=500, class_weight=None, coef0=0.5, degree=2, gamma=0.001, kernel=rbf, nu=0.7, shrinking=True;, score=0.756 total time=   1.4s\n",
      "[CV 3/3] END cache_size=500, class_weight=None, coef0=0.5, degree=2, gamma=0.001, kernel=rbf, nu=0.7, shrinking=True;, score=0.757 total time=   1.4s\n",
      "[CV 1/3] END cache_size=200, class_weight=None, coef0=0.1, degree=3, gamma=scale, kernel=poly, nu=0.9, shrinking=False;, score=0.652 total time=   1.0s\n",
      "[CV 2/3] END cache_size=200, class_weight=None, coef0=0.1, degree=3, gamma=scale, kernel=poly, nu=0.9, shrinking=False;, score=0.629 total time=   1.0s\n",
      "[CV 3/3] END cache_size=200, class_weight=None, coef0=0.1, degree=3, gamma=scale, kernel=poly, nu=0.9, shrinking=False;, score=0.642 total time=   1.0s\n",
      "[CV 1/3] END cache_size=500, class_weight=None, coef0=0.5, degree=2, gamma=0.1, kernel=sigmoid, nu=0.3, shrinking=False;, score=0.553 total time=   1.4s\n",
      "[CV 2/3] END cache_size=500, class_weight=None, coef0=0.5, degree=2, gamma=0.1, kernel=sigmoid, nu=0.3, shrinking=False;, score=0.567 total time=   1.4s\n",
      "[CV 3/3] END cache_size=500, class_weight=None, coef0=0.5, degree=2, gamma=0.1, kernel=sigmoid, nu=0.3, shrinking=False;, score=0.574 total time=   1.4s\n",
      "[CV 1/3] END cache_size=100, class_weight=None, coef0=0.5, degree=4, gamma=0.1, kernel=rbf, nu=0.3, shrinking=True;, score=0.762 total time=   1.6s\n",
      "[CV 2/3] END cache_size=100, class_weight=None, coef0=0.5, degree=4, gamma=0.1, kernel=rbf, nu=0.3, shrinking=True;, score=0.748 total time=   1.6s\n",
      "[CV 3/3] END cache_size=100, class_weight=None, coef0=0.5, degree=4, gamma=0.1, kernel=rbf, nu=0.3, shrinking=True;, score=0.743 total time=   1.5s\n",
      "[CV 1/3] END cache_size=200, class_weight=None, coef0=0.1, degree=3, gamma=auto, kernel=poly, nu=0.9, shrinking=True;, score=0.649 total time=   1.0s\n",
      "[CV 2/3] END cache_size=200, class_weight=None, coef0=0.1, degree=3, gamma=auto, kernel=poly, nu=0.9, shrinking=True;, score=0.623 total time=   1.0s\n",
      "[CV 3/3] END cache_size=200, class_weight=None, coef0=0.1, degree=3, gamma=auto, kernel=poly, nu=0.9, shrinking=True;, score=0.636 total time=   1.0s\n",
      "[CV 1/3] END cache_size=100, class_weight=balanced, coef0=0.0, degree=3, gamma=scale, kernel=poly, nu=0.7, shrinking=False;, score=0.768 total time=   1.0s\n",
      "[CV 2/3] END cache_size=100, class_weight=balanced, coef0=0.0, degree=3, gamma=scale, kernel=poly, nu=0.7, shrinking=False;, score=0.755 total time=   0.9s\n",
      "[CV 3/3] END cache_size=100, class_weight=balanced, coef0=0.0, degree=3, gamma=scale, kernel=poly, nu=0.7, shrinking=False;, score=0.752 total time=   0.9s\n",
      "[CV 1/3] END cache_size=100, class_weight=balanced, coef0=0.1, degree=2, gamma=scale, kernel=poly, nu=0.5, shrinking=True;, score=0.792 total time=   0.9s\n",
      "[CV 2/3] END cache_size=100, class_weight=balanced, coef0=0.1, degree=2, gamma=scale, kernel=poly, nu=0.5, shrinking=True;, score=0.783 total time=   0.9s\n",
      "[CV 3/3] END cache_size=100, class_weight=balanced, coef0=0.1, degree=2, gamma=scale, kernel=poly, nu=0.5, shrinking=True;, score=0.774 total time=   0.9s\n",
      "[CV 1/3] END cache_size=500, class_weight=None, coef0=0.5, degree=4, gamma=0.1, kernel=linear, nu=0.5, shrinking=True;, score=0.773 total time=   0.9s\n",
      "[CV 2/3] END cache_size=500, class_weight=None, coef0=0.5, degree=4, gamma=0.1, kernel=linear, nu=0.5, shrinking=True;, score=0.766 total time=   1.0s\n",
      "[CV 3/3] END cache_size=500, class_weight=None, coef0=0.5, degree=4, gamma=0.1, kernel=linear, nu=0.5, shrinking=True;, score=0.752 total time=   1.0s\n",
      "[CV 1/3] END cache_size=200, class_weight=None, coef0=0.0, degree=4, gamma=0.01, kernel=poly, nu=0.9, shrinking=False;, score=0.616 total time=   1.0s\n",
      "[CV 2/3] END cache_size=200, class_weight=None, coef0=0.0, degree=4, gamma=0.01, kernel=poly, nu=0.9, shrinking=False;, score=0.595 total time=   1.0s\n",
      "[CV 3/3] END cache_size=200, class_weight=None, coef0=0.0, degree=4, gamma=0.01, kernel=poly, nu=0.9, shrinking=False;, score=0.608 total time=   1.0s\n",
      "[CV 1/3] END cache_size=100, class_weight=balanced, coef0=0.1, degree=3, gamma=0.001, kernel=sigmoid, nu=0.3, shrinking=False;, score=0.376 total time=   0.9s\n",
      "[CV 2/3] END cache_size=100, class_weight=balanced, coef0=0.1, degree=3, gamma=0.001, kernel=sigmoid, nu=0.3, shrinking=False;, score=0.397 total time=   1.0s\n",
      "[CV 3/3] END cache_size=100, class_weight=balanced, coef0=0.1, degree=3, gamma=0.001, kernel=sigmoid, nu=0.3, shrinking=False;, score=0.426 total time=   0.9s\n",
      "[CV 1/3] END cache_size=200, class_weight=balanced, coef0=0.0, degree=4, gamma=0.01, kernel=poly, nu=0.5, shrinking=True;, score=0.795 total time=   1.1s\n",
      "[CV 2/3] END cache_size=200, class_weight=balanced, coef0=0.0, degree=4, gamma=0.01, kernel=poly, nu=0.5, shrinking=True;, score=0.781 total time=   1.0s\n",
      "[CV 3/3] END cache_size=200, class_weight=balanced, coef0=0.0, degree=4, gamma=0.01, kernel=poly, nu=0.5, shrinking=True;, score=0.773 total time=   1.0s\n",
      "[CV 1/3] END cache_size=500, class_weight=balanced, coef0=0.0, degree=2, gamma=scale, kernel=rbf, nu=0.7, shrinking=False;, score=0.742 total time=   1.3s\n",
      "[CV 2/3] END cache_size=500, class_weight=balanced, coef0=0.0, degree=2, gamma=scale, kernel=rbf, nu=0.7, shrinking=False;, score=0.735 total time=   1.3s\n",
      "[CV 3/3] END cache_size=500, class_weight=balanced, coef0=0.0, degree=2, gamma=scale, kernel=rbf, nu=0.7, shrinking=False;, score=0.728 total time=   1.3s\n",
      "[CV 1/3] END cache_size=100, class_weight=None, coef0=0.0, degree=3, gamma=0.01, kernel=sigmoid, nu=0.7, shrinking=True;, score=0.763 total time=   1.9s\n",
      "[CV 2/3] END cache_size=100, class_weight=None, coef0=0.0, degree=3, gamma=0.01, kernel=sigmoid, nu=0.7, shrinking=True;, score=0.751 total time=   1.8s\n",
      "[CV 3/3] END cache_size=100, class_weight=None, coef0=0.0, degree=3, gamma=0.01, kernel=sigmoid, nu=0.7, shrinking=True;, score=0.752 total time=   1.9s\n",
      "[CV 1/3] END cache_size=200, class_weight=balanced, coef0=0.5, degree=2, gamma=0.01, kernel=linear, nu=0.3, shrinking=False;, score=0.679 total time=   0.4s\n",
      "[CV 2/3] END cache_size=200, class_weight=balanced, coef0=0.5, degree=2, gamma=0.01, kernel=linear, nu=0.3, shrinking=False;, score=0.654 total time=   0.4s\n",
      "[CV 3/3] END cache_size=200, class_weight=balanced, coef0=0.5, degree=2, gamma=0.01, kernel=linear, nu=0.3, shrinking=False;, score=0.661 total time=   0.4s\n",
      "[CV 1/3] END cache_size=200, class_weight=balanced, coef0=0.5, degree=3, gamma=0.001, kernel=sigmoid, nu=0.7, shrinking=False;, score=0.765 total time=   1.9s\n",
      "[CV 2/3] END cache_size=200, class_weight=balanced, coef0=0.5, degree=3, gamma=0.001, kernel=sigmoid, nu=0.7, shrinking=False;, score=0.754 total time=   2.0s\n",
      "[CV 3/3] END cache_size=200, class_weight=balanced, coef0=0.5, degree=3, gamma=0.001, kernel=sigmoid, nu=0.7, shrinking=False;, score=0.755 total time=   2.2s\n",
      "[CV 1/3] END cache_size=500, class_weight=balanced, coef0=0.5, degree=4, gamma=0.1, kernel=linear, nu=0.7, shrinking=False;, score=0.769 total time=   0.8s\n",
      "[CV 2/3] END cache_size=500, class_weight=balanced, coef0=0.5, degree=4, gamma=0.1, kernel=linear, nu=0.7, shrinking=False;, score=0.755 total time=   0.8s\n",
      "[CV 3/3] END cache_size=500, class_weight=balanced, coef0=0.5, degree=4, gamma=0.1, kernel=linear, nu=0.7, shrinking=False;, score=0.755 total time=   0.8s\n",
      "[CV 1/3] END cache_size=500, class_weight=None, coef0=0.0, degree=2, gamma=scale, kernel=linear, nu=0.7, shrinking=False;, score=0.769 total time=   0.8s\n",
      "[CV 2/3] END cache_size=500, class_weight=None, coef0=0.0, degree=2, gamma=scale, kernel=linear, nu=0.7, shrinking=False;, score=0.755 total time=   0.8s\n",
      "[CV 3/3] END cache_size=500, class_weight=None, coef0=0.0, degree=2, gamma=scale, kernel=linear, nu=0.7, shrinking=False;, score=0.755 total time=   0.8s\n",
      "[CV 1/3] END cache_size=200, class_weight=None, coef0=0.1, degree=3, gamma=0.1, kernel=poly, nu=0.5, shrinking=False;, score=0.796 total time=   1.5s\n",
      "[CV 2/3] END cache_size=200, class_weight=None, coef0=0.1, degree=3, gamma=0.1, kernel=poly, nu=0.5, shrinking=False;, score=0.784 total time=   1.3s\n",
      "[CV 3/3] END cache_size=200, class_weight=None, coef0=0.1, degree=3, gamma=0.1, kernel=poly, nu=0.5, shrinking=False;, score=0.777 total time=   0.9s\n",
      "[CV 1/3] END cache_size=200, class_weight=balanced, coef0=0.0, degree=4, gamma=0.001, kernel=sigmoid, nu=0.3, shrinking=True;, score=0.394 total time=   1.0s\n",
      "[CV 2/3] END cache_size=200, class_weight=balanced, coef0=0.0, degree=4, gamma=0.001, kernel=sigmoid, nu=0.3, shrinking=True;, score=0.493 total time=   1.0s\n",
      "[CV 3/3] END cache_size=200, class_weight=balanced, coef0=0.0, degree=4, gamma=0.001, kernel=sigmoid, nu=0.3, shrinking=True;, score=0.409 total time=   1.0s\n",
      "[CV 1/3] END cache_size=100, class_weight=balanced, coef0=0.5, degree=3, gamma=auto, kernel=sigmoid, nu=0.5, shrinking=False;, score=0.498 total time=   1.8s\n",
      "[CV 2/3] END cache_size=100, class_weight=balanced, coef0=0.5, degree=3, gamma=auto, kernel=sigmoid, nu=0.5, shrinking=False;, score=0.492 total time=   1.9s\n",
      "[CV 3/3] END cache_size=100, class_weight=balanced, coef0=0.5, degree=3, gamma=auto, kernel=sigmoid, nu=0.5, shrinking=False;, score=0.497 total time=   1.9s\n",
      "[CV 1/3] END cache_size=100, class_weight=balanced, coef0=0.0, degree=2, gamma=scale, kernel=poly, nu=0.9, shrinking=False;, score=0.693 total time=   1.0s\n",
      "[CV 2/3] END cache_size=100, class_weight=balanced, coef0=0.0, degree=2, gamma=scale, kernel=poly, nu=0.9, shrinking=False;, score=0.667 total time=   1.0s\n",
      "[CV 3/3] END cache_size=100, class_weight=balanced, coef0=0.0, degree=2, gamma=scale, kernel=poly, nu=0.9, shrinking=False;, score=0.667 total time=   1.0s\n",
      "[CV 1/3] END cache_size=500, class_weight=balanced, coef0=0.0, degree=3, gamma=0.001, kernel=rbf, nu=0.5, shrinking=False;, score=0.795 total time=   1.1s\n",
      "[CV 2/3] END cache_size=500, class_weight=balanced, coef0=0.0, degree=3, gamma=0.001, kernel=rbf, nu=0.5, shrinking=False;, score=0.782 total time=   1.1s\n",
      "[CV 3/3] END cache_size=500, class_weight=balanced, coef0=0.0, degree=3, gamma=0.001, kernel=rbf, nu=0.5, shrinking=False;, score=0.770 total time=   1.1s\n",
      "[CV 1/3] END cache_size=100, class_weight=None, coef0=0.0, degree=3, gamma=auto, kernel=rbf, nu=0.9, shrinking=True;, score=0.740 total time=   1.4s\n",
      "[CV 2/3] END cache_size=100, class_weight=None, coef0=0.0, degree=3, gamma=auto, kernel=rbf, nu=0.9, shrinking=True;, score=0.735 total time=   1.4s\n",
      "[CV 3/3] END cache_size=100, class_weight=None, coef0=0.0, degree=3, gamma=auto, kernel=rbf, nu=0.9, shrinking=True;, score=0.727 total time=   1.4s\n",
      "[CV 1/3] END cache_size=500, class_weight=None, coef0=0.0, degree=3, gamma=auto, kernel=poly, nu=0.3, shrinking=True;, score=0.293 total time=24.3min\n",
      "[CV 2/3] END cache_size=500, class_weight=None, coef0=0.0, degree=3, gamma=auto, kernel=poly, nu=0.3, shrinking=True;, score=0.351 total time=25.4min\n",
      "[CV 3/3] END cache_size=500, class_weight=None, coef0=0.0, degree=3, gamma=auto, kernel=poly, nu=0.3, shrinking=True;, score=0.434 total time=25.1min\n",
      "[CV 1/3] END cache_size=200, class_weight=None, coef0=0.0, degree=2, gamma=0.001, kernel=poly, nu=0.3, shrinking=False;, score=0.651 total time=   0.4s\n",
      "[CV 2/3] END cache_size=200, class_weight=None, coef0=0.0, degree=2, gamma=0.001, kernel=poly, nu=0.3, shrinking=False;, score=0.619 total time=   0.4s\n",
      "[CV 3/3] END cache_size=200, class_weight=None, coef0=0.0, degree=2, gamma=0.001, kernel=poly, nu=0.3, shrinking=False;, score=0.657 total time=   0.4s\n",
      "[CV 1/3] END cache_size=500, class_weight=None, coef0=0.5, degree=2, gamma=scale, kernel=poly, nu=0.7, shrinking=False;, score=0.777 total time=   0.9s\n",
      "[CV 2/3] END cache_size=500, class_weight=None, coef0=0.5, degree=2, gamma=scale, kernel=poly, nu=0.7, shrinking=False;, score=0.766 total time=   0.9s\n",
      "[CV 3/3] END cache_size=500, class_weight=None, coef0=0.5, degree=2, gamma=scale, kernel=poly, nu=0.7, shrinking=False;, score=0.760 total time=   0.9s\n",
      "[CV 1/3] END cache_size=200, class_weight=None, coef0=0.0, degree=2, gamma=auto, kernel=linear, nu=0.5, shrinking=False;, score=0.768 total time=   0.9s\n",
      "[CV 2/3] END cache_size=200, class_weight=None, coef0=0.0, degree=2, gamma=auto, kernel=linear, nu=0.5, shrinking=False;, score=0.763 total time=   0.9s\n",
      "[CV 3/3] END cache_size=200, class_weight=None, coef0=0.0, degree=2, gamma=auto, kernel=linear, nu=0.5, shrinking=False;, score=0.758 total time=   1.0s\n",
      "[CV 1/3] END cache_size=100, class_weight=balanced, coef0=0.1, degree=4, gamma=0.1, kernel=sigmoid, nu=0.1, shrinking=True;, score=0.596 total time=   0.7s\n",
      "[CV 2/3] END cache_size=100, class_weight=balanced, coef0=0.1, degree=4, gamma=0.1, kernel=sigmoid, nu=0.1, shrinking=True;, score=0.614 total time=   0.5s\n",
      "[CV 3/3] END cache_size=100, class_weight=balanced, coef0=0.1, degree=4, gamma=0.1, kernel=sigmoid, nu=0.1, shrinking=True;, score=0.609 total time=   0.6s\n",
      "[CV 1/3] END cache_size=200, class_weight=balanced, coef0=0.1, degree=4, gamma=scale, kernel=poly, nu=0.1, shrinking=True;, score=0.679 total time=  18.3s\n",
      "[CV 2/3] END cache_size=200, class_weight=balanced, coef0=0.1, degree=4, gamma=scale, kernel=poly, nu=0.1, shrinking=True;, score=0.696 total time=  22.7s\n",
      "[CV 3/3] END cache_size=200, class_weight=balanced, coef0=0.1, degree=4, gamma=scale, kernel=poly, nu=0.1, shrinking=True;, score=0.729 total time=  26.3s\n",
      "[CV 1/3] END cache_size=200, class_weight=balanced, coef0=0.1, degree=2, gamma=0.001, kernel=rbf, nu=0.9, shrinking=True;, score=0.741 total time=   1.4s\n",
      "[CV 2/3] END cache_size=200, class_weight=balanced, coef0=0.1, degree=2, gamma=0.001, kernel=rbf, nu=0.9, shrinking=True;, score=0.729 total time=   1.4s\n",
      "[CV 3/3] END cache_size=200, class_weight=balanced, coef0=0.1, degree=2, gamma=0.001, kernel=rbf, nu=0.9, shrinking=True;, score=0.727 total time=   1.4s\n",
      "[CV 1/3] END cache_size=100, class_weight=None, coef0=0.0, degree=3, gamma=0.01, kernel=rbf, nu=0.7, shrinking=True;, score=0.754 total time=   1.4s\n",
      "[CV 2/3] END cache_size=100, class_weight=None, coef0=0.0, degree=3, gamma=0.01, kernel=rbf, nu=0.7, shrinking=True;, score=0.750 total time=   1.4s\n",
      "[CV 3/3] END cache_size=100, class_weight=None, coef0=0.0, degree=3, gamma=0.01, kernel=rbf, nu=0.7, shrinking=True;, score=0.742 total time=   1.4s\n",
      "[CV 1/3] END cache_size=100, class_weight=None, coef0=0.1, degree=2, gamma=0.01, kernel=linear, nu=0.1, shrinking=False;, score=0.244 total time=   0.2s\n",
      "[CV 2/3] END cache_size=100, class_weight=None, coef0=0.1, degree=2, gamma=0.01, kernel=linear, nu=0.1, shrinking=False;, score=0.306 total time=   0.2s\n",
      "[CV 3/3] END cache_size=100, class_weight=None, coef0=0.1, degree=2, gamma=0.01, kernel=linear, nu=0.1, shrinking=False;, score=0.360 total time=   0.2s\n",
      "[CV 1/3] END cache_size=100, class_weight=None, coef0=0.5, degree=3, gamma=auto, kernel=rbf, nu=0.1, shrinking=False;, score=0.700 total time=   4.5s\n",
      "[CV 2/3] END cache_size=100, class_weight=None, coef0=0.5, degree=3, gamma=auto, kernel=rbf, nu=0.1, shrinking=False;, score=0.715 total time=   4.3s\n",
      "[CV 3/3] END cache_size=100, class_weight=None, coef0=0.5, degree=3, gamma=auto, kernel=rbf, nu=0.1, shrinking=False;, score=0.725 total time=   3.8s\n",
      "[CV 1/3] END cache_size=500, class_weight=balanced, coef0=0.0, degree=3, gamma=0.01, kernel=rbf, nu=0.3, shrinking=False;, score=0.697 total time=   2.2s\n",
      "[CV 2/3] END cache_size=500, class_weight=balanced, coef0=0.0, degree=3, gamma=0.01, kernel=rbf, nu=0.3, shrinking=False;, score=0.702 total time=   2.5s\n",
      "[CV 3/3] END cache_size=500, class_weight=balanced, coef0=0.0, degree=3, gamma=0.01, kernel=rbf, nu=0.3, shrinking=False;, score=0.708 total time=   2.3s\n",
      "[CV 1/3] END cache_size=500, class_weight=None, coef0=0.0, degree=3, gamma=0.1, kernel=poly, nu=0.7, shrinking=True;, score=0.768 total time=   1.0s\n",
      "[CV 2/3] END cache_size=500, class_weight=None, coef0=0.0, degree=3, gamma=0.1, kernel=poly, nu=0.7, shrinking=True;, score=0.755 total time=   1.0s\n",
      "[CV 3/3] END cache_size=500, class_weight=None, coef0=0.0, degree=3, gamma=0.1, kernel=poly, nu=0.7, shrinking=True;, score=0.752 total time=   1.0s\n",
      "[CV 1/3] END cache_size=500, class_weight=balanced, coef0=0.0, degree=4, gamma=0.01, kernel=sigmoid, nu=0.9, shrinking=True;, score=0.749 total time=   2.0s\n",
      "[CV 2/3] END cache_size=500, class_weight=balanced, coef0=0.0, degree=4, gamma=0.01, kernel=sigmoid, nu=0.9, shrinking=True;, score=0.739 total time=   2.0s\n",
      "[CV 3/3] END cache_size=500, class_weight=balanced, coef0=0.0, degree=4, gamma=0.01, kernel=sigmoid, nu=0.9, shrinking=True;, score=0.736 total time=   2.0s\n",
      "[CV 1/3] END cache_size=100, class_weight=None, coef0=0.1, degree=4, gamma=auto, kernel=sigmoid, nu=0.1, shrinking=False;, score=0.579 total time=   0.6s\n",
      "[CV 2/3] END cache_size=100, class_weight=None, coef0=0.1, degree=4, gamma=auto, kernel=sigmoid, nu=0.1, shrinking=False;, score=0.592 total time=   0.5s\n",
      "[CV 3/3] END cache_size=100, class_weight=None, coef0=0.1, degree=4, gamma=auto, kernel=sigmoid, nu=0.1, shrinking=False;, score=0.582 total time=   0.5s\n",
      "[CV 1/3] END cache_size=200, class_weight=None, coef0=0.5, degree=3, gamma=0.1, kernel=poly, nu=0.5, shrinking=True;, score=0.797 total time=   1.0s\n",
      "[CV 2/3] END cache_size=200, class_weight=None, coef0=0.5, degree=3, gamma=0.1, kernel=poly, nu=0.5, shrinking=True;, score=0.787 total time=   0.9s\n",
      "[CV 3/3] END cache_size=200, class_weight=None, coef0=0.5, degree=3, gamma=0.1, kernel=poly, nu=0.5, shrinking=True;, score=0.777 total time=   0.9s\n",
      "[CV 1/3] END cache_size=200, class_weight=balanced, coef0=0.5, degree=2, gamma=scale, kernel=sigmoid, nu=0.1, shrinking=True;, score=0.596 total time=   0.6s\n",
      "[CV 2/3] END cache_size=200, class_weight=balanced, coef0=0.5, degree=2, gamma=scale, kernel=sigmoid, nu=0.1, shrinking=True;, score=0.568 total time=   0.6s\n",
      "[CV 3/3] END cache_size=200, class_weight=balanced, coef0=0.5, degree=2, gamma=scale, kernel=sigmoid, nu=0.1, shrinking=True;, score=0.548 total time=   0.6s\n",
      "[CV 1/3] END cache_size=100, class_weight=None, coef0=0.0, degree=3, gamma=0.001, kernel=linear, nu=0.1, shrinking=True;, score=0.244 total time=   0.2s\n",
      "[CV 2/3] END cache_size=100, class_weight=None, coef0=0.0, degree=3, gamma=0.001, kernel=linear, nu=0.1, shrinking=True;, score=0.306 total time=   0.2s\n",
      "[CV 3/3] END cache_size=100, class_weight=None, coef0=0.0, degree=3, gamma=0.001, kernel=linear, nu=0.1, shrinking=True;, score=0.360 total time=   0.2s\n",
      "[CV 1/3] END cache_size=200, class_weight=balanced, coef0=0.1, degree=3, gamma=0.1, kernel=linear, nu=0.3, shrinking=False;, score=0.679 total time=   0.4s\n",
      "[CV 2/3] END cache_size=200, class_weight=balanced, coef0=0.1, degree=3, gamma=0.1, kernel=linear, nu=0.3, shrinking=False;, score=0.654 total time=   0.4s\n",
      "[CV 3/3] END cache_size=200, class_weight=balanced, coef0=0.1, degree=3, gamma=0.1, kernel=linear, nu=0.3, shrinking=False;, score=0.661 total time=   0.4s\n",
      "[CV 1/3] END cache_size=200, class_weight=None, coef0=0.5, degree=3, gamma=0.01, kernel=poly, nu=0.3, shrinking=False;, score=0.597 total time=   2.6s\n",
      "[CV 2/3] END cache_size=200, class_weight=None, coef0=0.5, degree=3, gamma=0.01, kernel=poly, nu=0.3, shrinking=False;, score=0.644 total time=   2.7s\n",
      "[CV 3/3] END cache_size=200, class_weight=None, coef0=0.5, degree=3, gamma=0.01, kernel=poly, nu=0.3, shrinking=False;, score=0.653 total time=   2.6s\n",
      "[CV 1/3] END cache_size=500, class_weight=None, coef0=0.1, degree=2, gamma=scale, kernel=rbf, nu=0.5, shrinking=True;, score=0.794 total time=   1.2s\n",
      "[CV 2/3] END cache_size=500, class_weight=None, coef0=0.1, degree=2, gamma=scale, kernel=rbf, nu=0.5, shrinking=True;, score=0.782 total time=   1.1s\n",
      "[CV 3/3] END cache_size=500, class_weight=None, coef0=0.1, degree=2, gamma=scale, kernel=rbf, nu=0.5, shrinking=True;, score=0.770 total time=   1.2s\n",
      "[CV 1/3] END cache_size=100, class_weight=balanced, coef0=0.1, degree=4, gamma=0.1, kernel=linear, nu=0.9, shrinking=True;, score=0.733 total time=   0.8s\n",
      "[CV 2/3] END cache_size=100, class_weight=balanced, coef0=0.1, degree=4, gamma=0.1, kernel=linear, nu=0.9, shrinking=True;, score=0.726 total time=   0.8s\n",
      "[CV 3/3] END cache_size=100, class_weight=balanced, coef0=0.1, degree=4, gamma=0.1, kernel=linear, nu=0.9, shrinking=True;, score=0.724 total time=   0.8s\n",
      "[CV 1/3] END cache_size=100, class_weight=None, coef0=0.5, degree=2, gamma=0.1, kernel=linear, nu=0.3, shrinking=False;, score=0.679 total time=   0.4s\n",
      "[CV 2/3] END cache_size=100, class_weight=None, coef0=0.5, degree=2, gamma=0.1, kernel=linear, nu=0.3, shrinking=False;, score=0.654 total time=   0.4s\n",
      "[CV 3/3] END cache_size=100, class_weight=None, coef0=0.5, degree=2, gamma=0.1, kernel=linear, nu=0.3, shrinking=False;, score=0.661 total time=   0.4s\n",
      "[CV 1/3] END cache_size=200, class_weight=balanced, coef0=0.0, degree=2, gamma=scale, kernel=linear, nu=0.3, shrinking=True;, score=0.679 total time=   0.4s\n",
      "[CV 2/3] END cache_size=200, class_weight=balanced, coef0=0.0, degree=2, gamma=scale, kernel=linear, nu=0.3, shrinking=True;, score=0.706 total time=   0.4s\n",
      "[CV 3/3] END cache_size=200, class_weight=balanced, coef0=0.0, degree=2, gamma=scale, kernel=linear, nu=0.3, shrinking=True;, score=0.661 total time=   0.4s\n",
      "[CV 1/3] END cache_size=200, class_weight=None, coef0=0.5, degree=3, gamma=0.1, kernel=rbf, nu=0.5, shrinking=True;, score=0.790 total time=   1.3s\n",
      "[CV 2/3] END cache_size=200, class_weight=None, coef0=0.5, degree=3, gamma=0.1, kernel=rbf, nu=0.5, shrinking=True;, score=0.780 total time=   1.3s\n",
      "[CV 3/3] END cache_size=200, class_weight=None, coef0=0.5, degree=3, gamma=0.1, kernel=rbf, nu=0.5, shrinking=True;, score=0.769 total time=   1.3s\n",
      "{'shrinking': True, 'nu': 0.5, 'kernel': 'poly', 'gamma': 'scale', 'degree': 3, 'coef0': 0.5, 'class_weight': None, 'cache_size': 200}\n"
     ]
    }
   ],
   "source": [
    "from sklearn.svm import SVC\n",
    "from sklearn.model_selection import RandomizedSearchCV\n",
    "nusvc = NuSVC()\n",
    "nusvc.fit(X_train2, y_train2)\n",
    "\n",
    "parameters = {\n",
    "    'nu': [0.1, 0.3, 0.5, 0.7, 0.9],  # The \"nu\" parameter, which controls the number of support vectors\n",
    "    'kernel': ['linear', 'poly', 'rbf', 'sigmoid'],  # The kernel function to use\n",
    "    'degree': [2, 3, 4],  # Degree of the polynomial kernel (only for 'poly' kernel)\n",
    "    'gamma': ['scale', 'auto', 0.1, 0.01, 0.001],  # Kernel coefficient for 'rbf', 'poly', and 'sigmoid'\n",
    "    'coef0': [0.0, 0.1, 0.5],  # Independent term in kernel function (only for 'poly' and 'sigmoid')\n",
    "    'shrinking': [True, False],  # Whether to use shrinking heuristic\n",
    "    'class_weight': [None, 'balanced'],  # Class weights\n",
    "    'cache_size': [100, 200, 500],  # Size of the kernel cache (in MB)\n",
    "}\n",
    "\n",
    "clf = RandomizedSearchCV(estimator=nusvc, param_distributions=parameters, n_iter=50, cv=3, n_jobs=-1, random_state=73, verbose=3)\n",
    "clf.fit(X_train2, y_train2)\n",
    "print(clf.best_params_)"
   ]
  },
  {
   "cell_type": "markdown",
   "id": "2c29d754",
   "metadata": {
    "papermill": {
     "duration": 0.050587,
     "end_time": "2023-09-05T20:58:02.873742",
     "exception": false,
     "start_time": "2023-09-05T20:58:02.823155",
     "status": "completed"
    },
    "tags": []
   },
   "source": [
    "<a id=\"section-six\"></a>\n",
    "# 6. Conclusion and Submission"
   ]
  },
  {
   "cell_type": "code",
   "execution_count": 45,
   "id": "47b179d9",
   "metadata": {
    "execution": {
     "iopub.execute_input": "2023-09-05T20:58:02.978612Z",
     "iopub.status.busy": "2023-09-05T20:58:02.978215Z",
     "iopub.status.idle": "2023-09-05T20:58:03.024778Z",
     "shell.execute_reply": "2023-09-05T20:58:03.023350Z"
    },
    "papermill": {
     "duration": 0.102044,
     "end_time": "2023-09-05T20:58:03.027497",
     "exception": false,
     "start_time": "2023-09-05T20:58:02.925453",
     "status": "completed"
    },
    "tags": []
   },
   "outputs": [
    {
     "name": "stdout",
     "output_type": "stream",
     "text": [
      "Your submission was successfully saved!\n"
     ]
    }
   ],
   "source": [
    "output_sample = pd.read_csv('/kaggle/input/spaceship-titanic/sample_submission.csv')\n",
    "output = pd.DataFrame({'PassengerId': output_sample.PassengerId, 'Transported': predictions})\n",
    "output.Transported = output.Transported.astype(int).astype(bool)\n",
    "\n",
    "output.to_csv('submission.csv', index=False, sep=',')\n",
    "print(\"Your submission was successfully saved!\")"
   ]
  },
  {
   "cell_type": "code",
   "execution_count": 46,
   "id": "9fcbeb69",
   "metadata": {
    "execution": {
     "iopub.execute_input": "2023-09-05T20:58:03.138022Z",
     "iopub.status.busy": "2023-09-05T20:58:03.137574Z",
     "iopub.status.idle": "2023-09-05T20:58:03.145605Z",
     "shell.execute_reply": "2023-09-05T20:58:03.144468Z"
    },
    "papermill": {
     "duration": 0.064092,
     "end_time": "2023-09-05T20:58:03.148052",
     "exception": false,
     "start_time": "2023-09-05T20:58:03.083960",
     "status": "completed"
    },
    "tags": []
   },
   "outputs": [
    {
     "data": {
      "text/html": [
       "<a href='submission.csv' target='_blank'>submission.csv</a><br>"
      ],
      "text/plain": [
       "/kaggle/working/submission.csv"
      ]
     },
     "execution_count": 46,
     "metadata": {},
     "output_type": "execute_result"
    }
   ],
   "source": [
    "from IPython.display import FileLink\n",
    "FileLink(r'submission.csv')"
   ]
  },
  {
   "cell_type": "markdown",
   "id": "bb1ab64f",
   "metadata": {
    "papermill": {
     "duration": 0.051347,
     "end_time": "2023-09-05T20:58:03.252059",
     "exception": false,
     "start_time": "2023-09-05T20:58:03.200712",
     "status": "completed"
    },
    "tags": []
   },
   "source": []
  }
 ],
 "kernelspec": {
  "display_name": "Python 3",
  "language": "python",
  "name": "python3"
 },
 "language_info": {
  "codemirror_mode": {
   "name": "ipython",
   "version": 3
  },
  "file_extension": ".py",
  "mimetype": "text/x-python",
  "name": "python",
  "nbconvert_exporter": "python",
  "pygments_lexer": "ipython3",
  "version": "3.6.4"
 },
 "metadata": {
  "kernelspec": {
   "display_name": "Python 3",
   "language": "python",
   "name": "python3"
  },
  "language_info": {
   "codemirror_mode": {
    "name": "ipython",
    "version": 3
   },
   "file_extension": ".py",
   "mimetype": "text/x-python",
   "name": "python",
   "nbconvert_exporter": "python",
   "pygments_lexer": "ipython3",
   "version": "3.10.12"
  },
  "papermill": {
   "default_parameters": {},
   "duration": 4903.412047,
   "end_time": "2023-09-05T20:58:04.741220",
   "environment_variables": {},
   "exception": null,
   "input_path": "__notebook__.ipynb",
   "output_path": "__notebook__.ipynb",
   "parameters": {},
   "start_time": "2023-09-05T19:36:21.329173",
   "version": "2.4.0"
  }
 },
 "nbformat": 4,
 "nbformat_minor": 5
}
